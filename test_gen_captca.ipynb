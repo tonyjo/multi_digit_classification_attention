{
 "cells": [
  {
   "cell_type": "code",
   "execution_count": 1,
   "metadata": {},
   "outputs": [],
   "source": [
    "import cv2\n",
    "import string\n",
    "import random\n",
    "import numpy as np\n",
    "from PIL import Image\n",
    "from PIL.ImageDraw import Draw\n",
    "from captcha import ImageCaptcha\n",
    "from captcha import random_color"
   ]
  },
  {
   "cell_type": "code",
   "execution_count": 2,
   "metadata": {},
   "outputs": [],
   "source": [
    "import matplotlib.pyplot as plt\n",
    "%matplotlib inline"
   ]
  },
  {
   "cell_type": "code",
   "execution_count": 3,
   "metadata": {},
   "outputs": [],
   "source": [
    "image = ImageCaptcha(width=64, height=64, font_sizes=(64, 64, 64))"
   ]
  },
  {
   "cell_type": "code",
   "execution_count": 4,
   "metadata": {},
   "outputs": [],
   "source": [
    "az = string.ascii_lowercase\n",
    "AZ = string.ascii_uppercase\n",
    "nm = string.digits"
   ]
  },
  {
   "cell_type": "code",
   "execution_count": 5,
   "metadata": {},
   "outputs": [],
   "source": [
    "all_selections = []\n",
    "\n",
    "for i in range(len(az)):\n",
    "    all_selections.append(az[i])\n",
    "\n",
    "for i in range(len(AZ)):\n",
    "    all_selections.append(AZ[i])\n",
    "\n",
    "for i in range(len(nm)):\n",
    "    all_selections.append(nm[i])"
   ]
  },
  {
   "cell_type": "code",
   "execution_count": 6,
   "metadata": {},
   "outputs": [
    {
     "data": {
      "text/plain": [
       "62"
      ]
     },
     "execution_count": 6,
     "metadata": {},
     "output_type": "execute_result"
    }
   ],
   "source": [
    "len(all_selections)"
   ]
  },
  {
   "cell_type": "code",
   "execution_count": 7,
   "metadata": {},
   "outputs": [
    {
     "name": "stdout",
     "output_type": "stream",
     "text": [
      "['a', 'b', 'c', 'd', 'e', 'f', 'g', 'h', 'i', 'j', 'k', 'l', 'm', 'n', 'o', 'p', 'q', 'r', 's', 't', 'u', 'v', 'w', 'x', 'y', 'z', 'A', 'B', 'C', 'D', 'E', 'F', 'G', 'H', 'I', 'J', 'K', 'L', 'M', 'N', 'O', 'P', 'Q', 'R', 'S', 'T', 'U', 'V', 'W', 'X', 'Y', 'Z', '0', '1', '2', '3', '4', '5', '6', '7', '8', '9']\n"
     ]
    }
   ],
   "source": [
    "print(all_selections)"
   ]
  },
  {
   "cell_type": "code",
   "execution_count": 8,
   "metadata": {},
   "outputs": [],
   "source": [
    "def create_noise_dots(image, color, width=2, number=125):\n",
    "    draw = Draw(image)\n",
    "    w, h = image.size\n",
    "    while number:\n",
    "        x1 = random.randint(0, w)\n",
    "        y1 = random.randint(0, h)\n",
    "        draw.line(((x1, y1), (x1 - 1, y1 - 1)), fill=color, width=width)\n",
    "        number -= 1\n",
    "    return image"
   ]
  },
  {
   "cell_type": "code",
   "execution_count": 9,
   "metadata": {},
   "outputs": [],
   "source": [
    "def create_noise_curve(image, color):\n",
    "    w, h = image.size\n",
    "    x1 = random.randint(10, 15)\n",
    "    x2 = random.randint(w - 10, w)\n",
    "    y1 = random.randint(20, 35)\n",
    "    y2 = random.randint(y1, 60)\n",
    "    points = [x1, y1, x2, y2]\n",
    "    end = random.randint(180, 200)\n",
    "    start = random.randint(0, 20)\n",
    "    Draw(image).arc(points, start, end, fill=color)\n",
    "    return image"
   ]
  },
  {
   "cell_type": "code",
   "execution_count": 10,
   "metadata": {},
   "outputs": [],
   "source": [
    "all_data = []\n",
    "all_lbls = []\n",
    "\n",
    "for _ in range(5):\n",
    "    idx  = random.randint(0, len(all_selections)-1)\n",
    "    data = image.generate_image(all_selections[idx])\n",
    "    all_lbls.append(all_selections[idx])\n",
    "    all_data.append(data)"
   ]
  },
  {
   "cell_type": "code",
   "execution_count": 11,
   "metadata": {},
   "outputs": [],
   "source": [
    "total_w = 0\n",
    "for i in all_data:\n",
    "    pix = np.array(i)\n",
    "    h, w, _ = pix.shape\n",
    "    total_w += w"
   ]
  },
  {
   "cell_type": "code",
   "execution_count": 12,
   "metadata": {},
   "outputs": [],
   "source": [
    "highest_w = 100000\n",
    "for i in all_data:\n",
    "    pix = np.array(i)\n",
    "    h, w, _ = pix.shape\n",
    "    if h < highest_w:\n",
    "        highest_w = h"
   ]
  },
  {
   "cell_type": "code",
   "execution_count": 13,
   "metadata": {},
   "outputs": [],
   "source": [
    "canvas = np.ones((highest_w + 30, total_w + 30, 3)).astype(np.uint8) * 255"
   ]
  },
  {
   "cell_type": "code",
   "execution_count": 14,
   "metadata": {},
   "outputs": [],
   "source": [
    "all_bbox = []"
   ]
  },
  {
   "cell_type": "code",
   "execution_count": 15,
   "metadata": {},
   "outputs": [],
   "source": [
    "pix = np.array(all_data[0])"
   ]
  },
  {
   "cell_type": "code",
   "execution_count": 16,
   "metadata": {},
   "outputs": [
    {
     "data": {
      "text/plain": [
       "(45, 41, 3)"
      ]
     },
     "execution_count": 16,
     "metadata": {},
     "output_type": "execute_result"
    }
   ],
   "source": [
    "pix.shape"
   ]
  },
  {
   "cell_type": "code",
   "execution_count": 17,
   "metadata": {},
   "outputs": [
    {
     "data": {
      "text/plain": [
       "<matplotlib.image.AxesImage at 0x7fd672552250>"
      ]
     },
     "execution_count": 17,
     "metadata": {},
     "output_type": "execute_result"
    },
    {
     "data": {
      "image/png": "[encoded data removed]",
      "text/plain": [
       "<Figure size 432x288 with 1 Axes>"
      ]
     },
     "metadata": {},
     "output_type": "display_data"
    }
   ],
   "source": [
    "plt.imshow(pix)"
   ]
  },
  {
   "cell_type": "code",
   "execution_count": 18,
   "metadata": {},
   "outputs": [],
   "source": [
    "prev_w= 10\n",
    "for i in all_data:\n",
    "    pix = np.array(i)\n",
    "    h, w, _ = pix.shape\n",
    "    # print(pix.shape)\n",
    "    # Get BBox's\n",
    "    h1 = 10\n",
    "    w1 = prev_w\n",
    "    h2 = h\n",
    "    w2 = w\n",
    "    all_bbox.append([w1, h1, w2, h2])\n",
    "    # Paint Canvas\n",
    "    canvas[10:10+h, prev_w+2:prev_w+2+w, :] = pix\n",
    "    prev_w += w"
   ]
  },
  {
   "cell_type": "code",
   "execution_count": 19,
   "metadata": {},
   "outputs": [
    {
     "data": {
      "image/png": "[encoded data removed]",
      "text/plain": [
       "<Figure size 432x288 with 1 Axes>"
      ]
     },
     "metadata": {},
     "output_type": "display_data"
    }
   ],
   "source": [
    "plt.imshow(canvas)\n",
    "plt.show()"
   ]
  },
  {
   "cell_type": "code",
   "execution_count": 20,
   "metadata": {},
   "outputs": [],
   "source": [
    "im = Image.fromarray(canvas)"
   ]
  },
  {
   "cell_type": "code",
   "execution_count": 21,
   "metadata": {},
   "outputs": [
    {
     "data": {
      "image/png": "[encoded data removed]",
      "text/plain": [
       "<PIL.Image.Image image mode=RGB size=261x73 at 0x7FD6745D8C10>"
      ]
     },
     "execution_count": 21,
     "metadata": {},
     "output_type": "execute_result"
    }
   ],
   "source": [
    "im"
   ]
  },
  {
   "cell_type": "code",
   "execution_count": 22,
   "metadata": {},
   "outputs": [],
   "source": [
    "color = random_color(10, 200, random.randint(220, 255))\n",
    "im = create_noise_dots(im, color)\n",
    "color = random_color(10, 200, random.randint(220, 255))\n",
    "im = create_noise_dots(im, color)\n",
    "color = random_color(10, 200, random.randint(220, 255))\n",
    "im = create_noise_curve(im, color)"
   ]
  },
  {
   "cell_type": "code",
   "execution_count": 23,
   "metadata": {},
   "outputs": [],
   "source": [
    "canvas = np.array(im)"
   ]
  },
  {
   "cell_type": "code",
   "execution_count": 24,
   "metadata": {},
   "outputs": [
    {
     "data": {
      "image/png": "[encoded data removed]",
      "text/plain": [
       "<Figure size 432x288 with 1 Axes>"
      ]
     },
     "metadata": {},
     "output_type": "display_data"
    }
   ],
   "source": [
    "plt.imshow(canvas)\n",
    "plt.show()"
   ]
  },
  {
   "cell_type": "code",
   "execution_count": 25,
   "metadata": {},
   "outputs": [],
   "source": [
    "for i in range(len(all_bbox)):\n",
    "    x, y, w, h = all_bbox[i]\n",
    "    cv2.rectangle(canvas,(x,y),(x+w,y+h),(255,0,0), 1)"
   ]
  },
  {
   "cell_type": "code",
   "execution_count": 26,
   "metadata": {},
   "outputs": [
    {
     "data": {
      "image/png": "[encoded data removed]",
      "text/plain": [
       "<Figure size 432x288 with 1 Axes>"
      ]
     },
     "metadata": {},
     "output_type": "display_data"
    }
   ],
   "source": [
    "plt.imshow(canvas)\n",
    "plt.show()"
   ]
  },
  {
   "cell_type": "code",
   "execution_count": 27,
   "metadata": {},
   "outputs": [
    {
     "name": "stdout",
     "output_type": "stream",
     "text": [
      "['u', 'i', 'V', 'H', 'r']\n"
     ]
    }
   ],
   "source": [
    "print all_lbls"
   ]
  },
  {
   "cell_type": "code",
   "execution_count": 28,
   "metadata": {},
   "outputs": [
    {
     "data": {
      "text/plain": [
       "[[10, 10, 41, 45],\n",
       " [51, 10, 50, 57],\n",
       " [101, 10, 53, 58],\n",
       " [154, 10, 49, 56],\n",
       " [203, 10, 38, 43]]"
      ]
     },
     "execution_count": 28,
     "metadata": {},
     "output_type": "execute_result"
    }
   ],
   "source": [
    "all_bbox"
   ]
  },
  {
   "cell_type": "code",
   "execution_count": null,
   "metadata": {},
   "outputs": [],
   "source": []
  },
  {
   "cell_type": "code",
   "execution_count": null,
   "metadata": {},
   "outputs": [],
   "source": []
  }
 ],
 "metadata": {
  "kernelspec": {
   "display_name": "Python 2",
   "language": "python",
   "name": "python2"
  },
  "language_info": {
   "codemirror_mode": {
    "name": "ipython",
    "version": 2
   },
   "file_extension": ".py",
   "mimetype": "text/x-python",
   "name": "python",
   "nbconvert_exporter": "python",
   "pygments_lexer": "ipython2",
   "version": "2.7.12"
  }
 },
 "nbformat": 4,
 "nbformat_minor": 2
}
