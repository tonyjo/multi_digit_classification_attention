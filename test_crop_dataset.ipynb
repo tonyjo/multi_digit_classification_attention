{
 "cells": [
  {
   "cell_type": "code",
   "execution_count": 2,
   "metadata": {},
   "outputs": [],
   "source": [
    "from __future__ import print_function\n",
    "import os\n",
    "import cv2\n",
    "import h5py\n",
    "import numpy as np\n",
    "from copy import deepcopy\n",
    "import matplotlib.patches as patches\n",
    "import matplotlib.pyplot as plt\n",
    "%matplotlib inline\n",
    "import warnings\n",
    "warnings.filterwarnings(\"ignore\")"
   ]
  },
  {
   "cell_type": "markdown",
   "metadata": {},
   "source": [
    "### Functions"
   ]
  },
  {
   "cell_type": "code",
   "execution_count": 3,
   "metadata": {},
   "outputs": [],
   "source": [
    "def get_name(index, hdf5_data):\n",
    "    name = hdf5_data['/digitStruct/name']\n",
    "    return ''.join([chr(v[0]) for v in hdf5_data[name[index][0]].value])\n",
    "\n",
    "def get_bbox(index, hdf5_data):\n",
    "    all_iterm_data = []\n",
    "    item = hdf5_data['digitStruct']['bbox'][index].item()\n",
    "    for key in ['label', 'left', 'top', 'width', 'height']:\n",
    "        attr = hdf5_data[item][key]\n",
    "        values = [hdf5_data[attr.value[i].item()].value[0][0]\n",
    "                  for i in range(len(attr))] if len(attr) > 1 else [attr.value[0][0]]\n",
    "        all_iterm_data.append(values)\n",
    "\n",
    "    return all_iterm_data\n",
    "\n",
    "def biggest_box(all_data, sample_index, total_samples):\n",
    "    all_left  = []\n",
    "    all_top   = []\n",
    "    all_width = []\n",
    "    all_heigt = []\n",
    "\n",
    "    for k in range(total_samples):\n",
    "        sample_left  = abs(int(all_data[sample_index][1][1][k]))\n",
    "        sample_top   = abs(int(all_data[sample_index][1][2][k]))\n",
    "        sample_width = abs(int(all_data[sample_index][1][3][k]))\n",
    "        sample_heigt = abs(int(all_data[sample_index][1][4][k]))\n",
    "\n",
    "        all_left.append(sample_left)\n",
    "        all_top.append(sample_top)\n",
    "        all_width.append(sample_left+sample_width)\n",
    "        all_heigt.append(sample_top+sample_heigt)\n",
    "\n",
    "    low_left = min(all_left)\n",
    "    low_top  = min(all_top)\n",
    "    highest_width = max(all_width) - low_left\n",
    "    highest_height = max(all_heigt) - low_top\n",
    "\n",
    "    return low_left, low_top, highest_width, highest_height"
   ]
  },
  {
   "cell_type": "markdown",
   "metadata": {},
   "source": [
    "### Main"
   ]
  },
  {
   "cell_type": "code",
   "execution_count": 4,
   "metadata": {},
   "outputs": [],
   "source": [
    "#----------------------------Arguments---------------------------------------\n",
    "dataset_type     = 'test' # Change to train/test\n",
    "dataset_dir      = './dataset'\n",
    "curated_dataset  = os.path.join(dataset_dir, dataset_type + '_cropped')\n",
    "curated_textfile = os.path.join(dataset_dir, dataset_type + '.txt')\n",
    "file_path        = './dataset/%s/' % (dataset_type)\n",
    "mat_file         = './dataset/%s/digitStruct.mat' % (dataset_type)\n",
    "expand_percent   = 30\n",
    "img_size         = (64, 64) # (width, height)\n",
    "max_steps        = 5\n",
    "\n",
    "if os.path.exists(curated_dataset) == False:\n",
    "    os.mkdir(curated_dataset)"
   ]
  },
  {
   "cell_type": "code",
   "execution_count": 5,
   "metadata": {},
   "outputs": [],
   "source": [
    "ground_attention_downsample = (7, 7)"
   ]
  },
  {
   "cell_type": "code",
   "execution_count": 6,
   "metadata": {},
   "outputs": [
    {
     "name": "stdout",
     "output_type": "stream",
     "text": [
      "0.3\n"
     ]
    }
   ],
   "source": [
    "expand_percent = expand_percent/100.0\n",
    "print(expand_percent)"
   ]
  },
  {
   "cell_type": "code",
   "execution_count": 7,
   "metadata": {},
   "outputs": [
    {
     "name": "stdout",
     "output_type": "stream",
     "text": [
      "Total bboxes:  13068\n",
      "Completion..{0/13068}\n",
      "Completion..{500/13068}\n",
      "Completion..{13068/13068}\n",
      "Completed!\n"
     ]
    }
   ],
   "source": [
    "f = h5py.File(mat_file,'r')\n",
    "print('Total bboxes: ', f['/digitStruct/name'].shape[0])\n",
    "\n",
    "all_data = []\n",
    "#for j in range(f['/digitStruct/bbox'].shape[0]):\n",
    "for j in range(1000):\n",
    "    img_name = get_name(j, f)\n",
    "    row_dict = get_bbox(j, f)\n",
    "\n",
    "    all_data.append([img_name, row_dict])\n",
    "\n",
    "    if j%500 == 0:\n",
    "        print('Completion..{%d/%d}' % (j, f['/digitStruct/bbox'].shape[0]))\n",
    "\n",
    "print('Completion..{%d/%d}' % (f['/digitStruct/bbox'].shape[0], f['/digitStruct/bbox'].shape[0]))\n",
    "print('Completed!')"
   ]
  },
  {
   "cell_type": "code",
   "execution_count": 8,
   "metadata": {},
   "outputs": [],
   "source": [
    "# Create copy of samples to curate labels\n",
    "all_data_copy = deepcopy(all_data)"
   ]
  },
  {
   "cell_type": "markdown",
   "metadata": {},
   "source": [
    "### Visualize"
   ]
  },
  {
   "cell_type": "code",
   "execution_count": 9,
   "metadata": {},
   "outputs": [],
   "source": [
    "sample_index = 750"
   ]
  },
  {
   "cell_type": "code",
   "execution_count": 10,
   "metadata": {},
   "outputs": [
    {
     "name": "stdout",
     "output_type": "stream",
     "text": [
      "Path: ./dataset/test/751.png\n"
     ]
    }
   ],
   "source": [
    "sample_imgph = all_data[sample_index][0]\n",
    "sample_image = cv2.imread(file_path+sample_imgph)\n",
    "sample_image_copy = deepcopy(sample_image)\n",
    "sample_heigt_org, sample_width_org, _ = sample_image.shape\n",
    "# Get how many digits:\n",
    "total_samples = np.array(all_data[sample_index][1]).shape[1]\n",
    "print('Path:', file_path+sample_imgph)"
   ]
  },
  {
   "cell_type": "code",
   "execution_count": 11,
   "metadata": {},
   "outputs": [
    {
     "data": {
      "image/png": "[encoded data removed]",
      "text/plain": [
       "<matplotlib.figure.Figure at 0x7fd4622e86d0>"
      ]
     },
     "metadata": {},
     "output_type": "display_data"
    }
   ],
   "source": [
    "plt.imshow(sample_image)\n",
    "plt.show()"
   ]
  },
  {
   "cell_type": "code",
   "execution_count": 12,
   "metadata": {},
   "outputs": [],
   "source": [
    "#-------------------------------------------------------------------\n",
    "## Get bounding box encompassing all digits\n",
    "low_left, low_top, high_width, high_height = biggest_box(all_data=all_data,\\\n",
    "                      sample_index=sample_index, total_samples=total_samples)"
   ]
  },
  {
   "cell_type": "code",
   "execution_count": 13,
   "metadata": {},
   "outputs": [
    {
     "data": {
      "text/plain": [
       "(-0.5, 90.5, 56.5, -0.5)"
      ]
     },
     "execution_count": 13,
     "metadata": {},
     "output_type": "execute_result"
    },
    {
     "data": {
      "image/png": "[encoded data removed]",
      "text/plain": [
       "<matplotlib.figure.Figure at 0x7fd461fd9a50>"
      ]
     },
     "metadata": {},
     "output_type": "display_data"
    }
   ],
   "source": [
    "fig,ax = plt.subplots(1, 1)\n",
    "ax.text(0, 1, 'image', color='black', backgroundcolor='white', fontsize=8)\n",
    "ax.imshow(sample_image)\n",
    "rect = patches.Rectangle((low_left, low_top), high_width, high_height,\\\n",
    "                         linewidth=1, edgecolor='r', facecolor='none')\n",
    "ax.add_patch(rect)\n",
    "ax.axis('off')"
   ]
  },
  {
   "cell_type": "code",
   "execution_count": 14,
   "metadata": {},
   "outputs": [],
   "source": [
    "def check_low_extend(check_ex):\n",
    "    if check_ex < 0:\n",
    "        return 0\n",
    "    else:\n",
    "        return check_ex\n",
    "\n",
    "def check_high_extend(check_ex, low_ex, orgsample_dim):\n",
    "    if (low_ex + check_ex) > orgsample_dim:\n",
    "        delta = (low_ex + check_ex) - orgsample_dim\n",
    "        return check_ex - delta\n",
    "    else:\n",
    "        return check_ex        "
   ]
  },
  {
   "cell_type": "code",
   "execution_count": 15,
   "metadata": {},
   "outputs": [],
   "source": [
    "#-------------------------------------------------------------------\n",
    "## Crop\n",
    "# Obtain the spatial extend to crop\n",
    "low_x  = low_left - int(expand_percent * low_left)\n",
    "low_x  = check_low_extend(check_ex=low_x)\n",
    "\n",
    "low_y  = low_top  - int(expand_percent * low_top)\n",
    "low_y  = check_low_extend(check_ex=low_y)\n",
    "\n",
    "high_x = high_width  + int(expand_percent * high_width)\n",
    "high_x = check_high_extend(check_ex=high_x, low_ex=low_x,\\\n",
    "                              orgsample_dim=sample_width_org)\n",
    "\n",
    "high_y = high_height + int(expand_percent * high_height)\n",
    "high_y = check_high_extend(check_ex=high_y, low_ex=low_y,\\\n",
    "                              orgsample_dim=sample_heigt_org)"
   ]
  },
  {
   "cell_type": "code",
   "execution_count": 16,
   "metadata": {},
   "outputs": [
    {
     "name": "stdout",
     "output_type": "stream",
     "text": [
      "46 12 37 34\n"
     ]
    }
   ],
   "source": [
    "print(low_left, low_top, high_width, high_height)"
   ]
  },
  {
   "cell_type": "code",
   "execution_count": 17,
   "metadata": {},
   "outputs": [
    {
     "name": "stdout",
     "output_type": "stream",
     "text": [
      "33 9 48 44\n"
     ]
    }
   ],
   "source": [
    "print(low_x, low_y, high_x, high_y)"
   ]
  },
  {
   "cell_type": "code",
   "execution_count": 18,
   "metadata": {},
   "outputs": [],
   "source": [
    "#------- X-axis shift -------\n",
    "if low_x > 0:\n",
    "    sample_image_copy = sample_image_copy[:, low_x:, :]\n",
    "    # Update\n",
    "    for i in range(total_samples):\n",
    "        # Update lower bound-- left\n",
    "        all_data_copy[sample_index][1][1][i] -= low_x\n",
    "        \n",
    "if high_x < sample_width_org:\n",
    "    sample_image_copy = sample_image_copy[:, :(low_x+high_x), :]\n",
    "\n",
    "#------- Y-axis shift-------\n",
    "if low_y > 0:\n",
    "    sample_image_copy = sample_image_copy[low_y:, :, :]\n",
    "    # Include fixed pixels from all upper bound-- top\n",
    "    for i in range(total_samples):\n",
    "        all_data_copy[sample_index][1][2][i] -= low_y\n",
    "\n",
    "if high_y < sample_heigt_org:\n",
    "    sample_image_copy = sample_image_copy[:(low_y+high_y), :, :]"
   ]
  },
  {
   "cell_type": "code",
   "execution_count": 19,
   "metadata": {},
   "outputs": [
    {
     "data": {
      "image/png": "[encoded data removed]",
      "text/plain": [
       "<matplotlib.figure.Figure at 0x7fd45ff1d350>"
      ]
     },
     "metadata": {},
     "output_type": "display_data"
    }
   ],
   "source": [
    "plt.figure(figsize=(2, 2))\n",
    "plt.imshow(sample_image_copy)\n",
    "plt.show()"
   ]
  },
  {
   "cell_type": "code",
   "execution_count": 20,
   "metadata": {},
   "outputs": [],
   "source": [
    "#-------------------------------------------------------------------\n",
    "## Get bounding box encompassing all digits\n",
    "low_left, low_top, high_width, high_height = biggest_box(all_data=all_data_copy,\\\n",
    "                      sample_index=sample_index, total_samples=total_samples)"
   ]
  },
  {
   "cell_type": "code",
   "execution_count": 21,
   "metadata": {},
   "outputs": [
    {
     "data": {
      "text/plain": [
       "<matplotlib.patches.Rectangle at 0x7fd45fe21110>"
      ]
     },
     "execution_count": 21,
     "metadata": {},
     "output_type": "execute_result"
    },
    {
     "data": {
      "image/png": "[encoded data removed]",
      "text/plain": [
       "<matplotlib.figure.Figure at 0x7fd45fe44910>"
      ]
     },
     "metadata": {},
     "output_type": "display_data"
    }
   ],
   "source": [
    "fig,ax = plt.subplots(1, 1)\n",
    "ax.text(0, 1, 'image', color='black', backgroundcolor='white', fontsize=8)\n",
    "ax.imshow(sample_image_copy)\n",
    "rect = patches.Rectangle((low_left, low_top), high_width, high_height,\\\n",
    "                         linewidth=1, edgecolor='r', facecolor='none')\n",
    "ax.add_patch(rect)"
   ]
  },
  {
   "cell_type": "code",
   "execution_count": 22,
   "metadata": {},
   "outputs": [
    {
     "data": {
      "text/plain": [
       "<matplotlib.image.AxesImage at 0x7fd45fd8aed0>"
      ]
     },
     "execution_count": 22,
     "metadata": {},
     "output_type": "execute_result"
    },
    {
     "data": {
      "image/png": "[encoded data removed]",
      "text/plain": [
       "<matplotlib.figure.Figure at 0x7fd45fe6f5d0>"
      ]
     },
     "metadata": {},
     "output_type": "display_data"
    }
   ],
   "source": [
    "## Resize image\n",
    "sample_heigt_org_rz, sample_width_org_rz, _ = sample_image_copy.shape\n",
    "\n",
    "if sample_width_org_rz > img_size[0]:\n",
    "    # Shrinking\n",
    "    smpl_img_rz = cv2.resize(sample_image_copy, img_size, interpolation = cv2.INTER_AREA)\n",
    "else:\n",
    "    # Zooming\n",
    "    smpl_img_rz = cv2.resize(sample_image_copy, img_size, interpolation = cv2.INTER_LINEAR)\n",
    "\n",
    "plt.imshow(smpl_img_rz)"
   ]
  },
  {
   "cell_type": "markdown",
   "metadata": {},
   "source": [
    "### Curate labels to match new image shape"
   ]
  },
  {
   "cell_type": "code",
   "execution_count": 23,
   "metadata": {},
   "outputs": [],
   "source": [
    "# Collect samples\n",
    "samples = []\n",
    "\n",
    "for index_into in range(max_steps):\n",
    "    if index_into > total_samples - 1:\n",
    "        sample_label = 0\n",
    "        sample_left  = 0\n",
    "        sample_top   = 0\n",
    "        sample_width = 0\n",
    "        sample_heigt = 0\n",
    "\n",
    "    else:\n",
    "        sample_label = int(all_data_copy[sample_index][1][0][index_into])\n",
    "        sample_left  = abs(int((all_data_copy[sample_index][1][1][index_into] * img_size[0])/sample_width_org_rz))\n",
    "        sample_top   = abs(int((all_data_copy[sample_index][1][2][index_into] * img_size[1])/sample_heigt_org_rz))\n",
    "        sample_width = abs(int((all_data_copy[sample_index][1][3][index_into] * img_size[0])/sample_width_org_rz))\n",
    "        sample_heigt = abs(int((all_data_copy[sample_index][1][4][index_into] * img_size[1])/sample_heigt_org_rz))\n",
    "\n",
    "    # Append\n",
    "    samples.append([all_data_copy[sample_index][0][:-4], sample_label, sample_left, sample_top, sample_width, sample_heigt])"
   ]
  },
  {
   "cell_type": "code",
   "execution_count": 24,
   "metadata": {},
   "outputs": [
    {
     "data": {
      "text/plain": [
       "[['751', 6, 14, 12, 14, 37],\n",
       " ['751', 2, 27, 9, 13, 37],\n",
       " ['751', 3, 41, 4, 13, 37],\n",
       " ['751', 0, 0, 0, 0, 0],\n",
       " ['751', 0, 0, 0, 0, 0]]"
      ]
     },
     "execution_count": 24,
     "metadata": {},
     "output_type": "execute_result"
    }
   ],
   "source": [
    "samples"
   ]
  },
  {
   "cell_type": "code",
   "execution_count": 25,
   "metadata": {},
   "outputs": [
    {
     "data": {
      "image/png": "[encoded data removed]",
      "text/plain": [
       "<matplotlib.figure.Figure at 0x7fd45fd4c3d0>"
      ]
     },
     "metadata": {},
     "output_type": "display_data"
    }
   ],
   "source": [
    "fig,ax = plt.subplots(1, max_steps+1)\n",
    "plt.text(0, 1, 'image', color='black', backgroundcolor='white', fontsize=8)\n",
    "ax[0].imshow(smpl_img_rz)\n",
    "ax[0].axis('off')\n",
    "        \n",
    "for k in range(max_steps):\n",
    "    sample_label = samples[k][1]\n",
    "    sample_left  = samples[k][2]\n",
    "    sample_top   = samples[k][3]\n",
    "    sample_width = samples[k][4]\n",
    "    sample_heigt = samples[k][5]\n",
    "    \n",
    "    rect = patches.Rectangle((sample_left, sample_top), sample_width, sample_heigt,\\\n",
    "                             linewidth=1, edgecolor='r', facecolor='none')  \n",
    "    ax[k+1].text(0, 1, sample_label, color='black', backgroundcolor='white', fontsize=8)\n",
    "    ax[k+1].imshow(smpl_img_rz)\n",
    "    ax[k+1].add_patch(rect)\n",
    "    ax[k+1].axis('off')"
   ]
  },
  {
   "cell_type": "markdown",
   "metadata": {},
   "source": [
    "### Extra: check attention on the resized"
   ]
  },
  {
   "cell_type": "code",
   "execution_count": 26,
   "metadata": {},
   "outputs": [],
   "source": [
    "def gaussian2d(sup, scales):\n",
    "    \"\"\"\n",
    "    Creates a 2D Gaussian based on the size and scale.\n",
    "    \"\"\"\n",
    "    var   = scales * scales\n",
    "    shape = (sup[0], sup[1])\n",
    "    n,m   = [(i-1)/2 for i in shape]\n",
    "    y,x   = np.ogrid[-m:m+1,-n:n+1]\n",
    "    \n",
    "    g = (1/np.sqrt(2*np.pi*var))*np.exp( -(x*x + y*y) / (2*var))\n",
    "\n",
    "    return g"
   ]
  },
  {
   "cell_type": "code",
   "execution_count": 27,
   "metadata": {},
   "outputs": [],
   "source": [
    "def softmax(x):\n",
    "    \"\"\"\n",
    "    Compute softmax values for each sets of scores in x.\n",
    "    \"\"\"\n",
    "    e_x = np.exp(x - np.max(x))\n",
    "\n",
    "    return e_x / e_x.sum(axis=0)\n",
    "\n",
    "def generate_ground_gaussian_attention_mask(sample, sample_top, sample_height, sample_left, sample_width):\n",
    "    \"\"\"\n",
    "    Creates a ground truth attention mask based on ground truth bounding boxes,\n",
    "    and scales to fit into the box.\n",
    "    \"\"\"\n",
    "    sample_image_height, sample_image_width, _ = sample.shape \n",
    "    scales = np.sqrt(2) * 8 # Play with the standard deviation\n",
    "    \n",
    "    # Convert even to odd by adding extra px\n",
    "    if sample_width%2 == 0:\n",
    "        sample_width += 1\n",
    "    \n",
    "    if sample_height%2 == 0:\n",
    "        sample_height += 1\n",
    "    \n",
    "    gaussain = gaussian2d((sample_width, sample_height), scales)\n",
    "    gaussain_normalized = (gaussain - np.min(gaussain))/\\\n",
    "                          (np.max(gaussain) - np.min(gaussain))\n",
    "\n",
    "    sample_attention = np.zeros((sample_image_height, sample_image_width)) * 0.0\n",
    "    \n",
    "    sample_attention[sample_top:sample_top+sample_height, sample_left:sample_left+sample_width] = gaussain_normalized\n",
    "\n",
    "    sample_attention_res  = cv2.resize(sample_attention, ground_attention_downsample, interpolation=cv2.INTER_NEAREST)\n",
    "\n",
    "    sample_attention_res  = sample_attention_res.flatten()\n",
    "\n",
    "    sample_attention_res_norm = softmax(sample_attention_res)\n",
    "    sample_attention_res_norm = np.reshape(sample_attention_res_norm, ground_attention_downsample)\n",
    "\n",
    "    return sample_attention, sample_attention_res_norm"
   ]
  },
  {
   "cell_type": "code",
   "execution_count": 28,
   "metadata": {},
   "outputs": [],
   "source": [
    "def biggest_box1(samples):\n",
    "    all_left  = []\n",
    "    all_top   = []\n",
    "    all_width = []\n",
    "    all_heigt = []\n",
    "\n",
    "    for k in range(total_samples):\n",
    "        sample_label = samples[k][1]\n",
    "        sample_left  = samples[k][2]\n",
    "        sample_top   = samples[k][3]\n",
    "        sample_width = samples[k][4]\n",
    "        sample_heigt = samples[k][5]\n",
    "\n",
    "        all_left.append(sample_left)\n",
    "        all_top.append(sample_top)\n",
    "        all_width.append(sample_left+sample_width)\n",
    "        all_heigt.append(sample_top+sample_heigt)\n",
    "\n",
    "    low_left = min(all_left)\n",
    "    low_top  = min(all_top)\n",
    "    highest_width = max(all_width) - low_left\n",
    "    highest_height = max(all_heigt) - low_top\n",
    "    \n",
    "    return low_left, low_top, highest_width, highest_height"
   ]
  },
  {
   "cell_type": "code",
   "execution_count": 29,
   "metadata": {},
   "outputs": [],
   "source": [
    "def generate_stop_attention_mask(samples, sample_image):\n",
    "    sample_image_height, sample_image_width, _ = sample_image.shape\n",
    "    \n",
    "    low_left, low_top, highest_width, highest_height = biggest_box1(samples)\n",
    "    \n",
    "    x = np.ones((sample_image_height, sample_image_width))\n",
    "    \n",
    "    mask = np.ones((sample_image_height, sample_image_width))\n",
    "    \n",
    "    mask[low_top:low_top+highest_height, low_left:low_left+highest_width] = 0\n",
    "    \n",
    "    x2 = np.multiply(x, mask)\n",
    "    \n",
    "    x3 = softmax(x2.flatten())\n",
    "    \n",
    "    x3 = np.reshape(x3, (sample_image_height, sample_image_width))\n",
    "    \n",
    "    return x3"
   ]
  },
  {
   "cell_type": "code",
   "execution_count": 30,
   "metadata": {},
   "outputs": [
    {
     "data": {
      "image/png": "[encoded data removed]",
      "text/plain": [
       "<matplotlib.figure.Figure at 0x7fd45fd61710>"
      ]
     },
     "metadata": {},
     "output_type": "display_data"
    }
   ],
   "source": [
    "fig,ax = plt.subplots(1, max_steps+1)\n",
    "plt.text(0, 1, 'image', color='black', backgroundcolor='white', fontsize=8)\n",
    "ax[0].imshow(smpl_img_rz)\n",
    "ax[0].axis('off')\n",
    "        \n",
    "for k in range(max_steps):\n",
    "    if k > total_samples - 1:\n",
    "        sample_label = samples[k][1]\n",
    "        sample_left  = samples[k][2]\n",
    "        sample_top   = samples[k][3]\n",
    "        sample_width = samples[k][4]\n",
    "        sample_heigt = samples[k][5]\n",
    "        \n",
    "        stop_mask = generate_stop_attention_mask(samples, sample_image=smpl_img_rz)\n",
    "        ax[k+1].imshow(smpl_img_rz)\n",
    "        ax[k+1].imshow(stop_mask, alpha=0.5)\n",
    "        ax[k+1].axis('off')\n",
    "    else:\n",
    "        sample_label = samples[k][1]\n",
    "        sample_left  = samples[k][2]\n",
    "        sample_top   = samples[k][3]\n",
    "        sample_width = samples[k][4]\n",
    "        sample_heigt = samples[k][5]\n",
    "\n",
    "        acc, get_attention_mask = generate_ground_gaussian_attention_mask(smpl_img_rz,\\\n",
    "                                        sample_top, sample_heigt, sample_left, sample_width)\n",
    "        #sample_attention_res = skimage.transform.pyramid_expand(get_attention_mask, upscale=9.1, sigma=1)\n",
    "        #print(sample_attention_res)\n",
    "        rect = patches.Rectangle((sample_left, sample_top), sample_width, sample_heigt,\\\n",
    "                                  linewidth=1, edgecolor='r', facecolor='none')  \n",
    "        ax[k+1].text(0, 1, sample_label, color='black', backgroundcolor='white', fontsize=8)\n",
    "        ax[k+1].imshow(smpl_img_rz)\n",
    "        ax[k+1].imshow(acc, alpha=0.5)\n",
    "        ax[k+1].add_patch(rect)\n",
    "        ax[k+1].axis('off')"
   ]
  },
  {
   "cell_type": "code",
   "execution_count": null,
   "metadata": {},
   "outputs": [],
   "source": []
  }
 ],
 "metadata": {
  "kernelspec": {
   "display_name": "Python 2",
   "language": "python",
   "name": "python2"
  },
  "language_info": {
   "codemirror_mode": {
    "name": "ipython",
    "version": 2
   },
   "file_extension": ".py",
   "mimetype": "text/x-python",
   "name": "python",
   "nbconvert_exporter": "python",
   "pygments_lexer": "ipython2",
   "version": "2.7.12"
  }
 },
 "nbformat": 4,
 "nbformat_minor": 2
}
