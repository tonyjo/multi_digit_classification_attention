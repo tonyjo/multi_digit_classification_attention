{
 "cells": [
  {
   "cell_type": "code",
   "execution_count": 1,
   "metadata": {},
   "outputs": [
    {
     "name": "stderr",
     "output_type": "stream",
     "text": [
      "/Library/Frameworks/Python.framework/Versions/2.7/lib/python2.7/site-packages/h5py/__init__.py:36: FutureWarning: Conversion of the second argument of issubdtype from `float` to `np.floating` is deprecated. In future, it will be treated as `np.float64 == np.dtype(float).type`.\n",
      "  from ._conv import register_converters as _register_converters\n"
     ]
    }
   ],
   "source": [
    "from __future__ import print_function\n",
    "import os\n",
    "import cv2\n",
    "import h5py\n",
    "import numpy as np\n",
    "from copy import deepcopy\n",
    "from skimage.transform import resize\n",
    "import matplotlib.patches as patches\n",
    "import matplotlib.pyplot as plt\n",
    "%matplotlib inline\n",
    "import warnings\n",
    "warnings.filterwarnings(\"ignore\")"
   ]
  },
  {
   "cell_type": "markdown",
   "metadata": {},
   "source": [
    "### Functions"
   ]
  },
  {
   "cell_type": "code",
   "execution_count": 3,
   "metadata": {
    "collapsed": true
   },
   "outputs": [],
   "source": [
    "def get_name(index, hdf5_data):\n",
    "    name = hdf5_data['/digitStruct/name']\n",
    "    return ''.join([chr(v[0]) for v in hdf5_data[name[index][0]].value])\n",
    "\n",
    "def get_bbox(index, hdf5_data):\n",
    "    all_iterm_data = []\n",
    "    item = hdf5_data['digitStruct']['bbox'][index].item()\n",
    "    for key in ['label', 'left', 'top', 'width', 'height']:\n",
    "        attr = hdf5_data[item][key]\n",
    "        values = [hdf5_data[attr.value[i].item()].value[0][0]\n",
    "                  for i in range(len(attr))] if len(attr) > 1 else [attr.value[0][0]]\n",
    "        # Matlab to python --indexing correction\n",
    "        if key == 'left'or key == 'top':\n",
    "            values_idx_corr = [val-1 for val in values]\n",
    "            all_iterm_data.append(values_idx_corr)\n",
    "        else:\n",
    "            all_iterm_data.append(values)\n",
    "\n",
    "    return all_iterm_data\n",
    "\n",
    "def biggest_box(all_data, sample_index, total_samples):\n",
    "    all_left  = []\n",
    "    all_top   = []\n",
    "    all_width = []\n",
    "    all_heigt = []\n",
    "\n",
    "    for k in range(total_samples):\n",
    "        sample_left  = abs(int(all_data[sample_index][1][1][k]))\n",
    "        sample_top   = abs(int(all_data[sample_index][1][2][k]))\n",
    "        sample_width = abs(int(all_data[sample_index][1][3][k]))\n",
    "        sample_heigt = abs(int(all_data[sample_index][1][4][k]))\n",
    "\n",
    "        all_left.append(sample_left)\n",
    "        all_top.append(sample_top)\n",
    "        all_width.append(sample_left+sample_width)\n",
    "        all_heigt.append(sample_top+sample_heigt)\n",
    "\n",
    "    low_left = min(all_left)\n",
    "    low_top  = min(all_top)\n",
    "    highest_width = max(all_width) - low_left\n",
    "    highest_height = max(all_heigt) - low_top\n",
    "\n",
    "    return low_left, low_top, highest_width, highest_height"
   ]
  },
  {
   "cell_type": "code",
   "execution_count": 4,
   "metadata": {
    "collapsed": true
   },
   "outputs": [],
   "source": [
    "def load_file(curated_textfile):\n",
    "    all_data = []\n",
    "\n",
    "    with open(curated_textfile, 'r') as f:\n",
    "        frames = f.readlines()\n",
    "\n",
    "    for frame in frames:\n",
    "        frame = frame.split(', ')\n",
    "        iterm_data = []\n",
    "\n",
    "        # Remove all non-interger characters\n",
    "        for i in frame:\n",
    "            i = i.replace(\"[\", \"\")\n",
    "            i = i.replace(\"[[\", \"\")\n",
    "            i = i.replace(\"]\", \"\")\n",
    "            i = i.replace(\"]]\", \"\")\n",
    "            i = i.replace(\"'\", \"\")\n",
    "\n",
    "            iterm_data.append(int(i))\n",
    "\n",
    "        final_data = []\n",
    "\n",
    "        count = 0\n",
    "        for u in range(max_steps):\n",
    "            each_data = []\n",
    "            for k in range(6):\n",
    "                if k == 0:\n",
    "                    each_data.append(str(iterm_data[count]) + '.png')\n",
    "                else:\n",
    "                    each_data.append(iterm_data[count])\n",
    "\n",
    "                count += 1\n",
    "\n",
    "            final_data.append(each_data)\n",
    "\n",
    "        all_data.append(final_data)\n",
    "\n",
    "    return all_data"
   ]
  },
  {
   "cell_type": "markdown",
   "metadata": {},
   "source": [
    "### Main"
   ]
  },
  {
   "cell_type": "code",
   "execution_count": 5,
   "metadata": {},
   "outputs": [
    {
     "ename": "OSError",
     "evalue": "[Errno 2] No such file or directory: './dataset/test_cropped'",
     "output_type": "error",
     "traceback": [
      "\u001b[0;31m---------------------------------------------------------------------------\u001b[0m",
      "\u001b[0;31mOSError\u001b[0m                                   Traceback (most recent call last)",
      "\u001b[0;32m<ipython-input-5-01033ca3b67d>\u001b[0m in \u001b[0;36m<module>\u001b[0;34m()\u001b[0m\n\u001b[1;32m     11\u001b[0m \u001b[0;34m\u001b[0m\u001b[0m\n\u001b[1;32m     12\u001b[0m \u001b[0;32mif\u001b[0m \u001b[0mos\u001b[0m\u001b[0;34m.\u001b[0m\u001b[0mpath\u001b[0m\u001b[0;34m.\u001b[0m\u001b[0mexists\u001b[0m\u001b[0;34m(\u001b[0m\u001b[0mcurated_dataset\u001b[0m\u001b[0;34m)\u001b[0m \u001b[0;34m==\u001b[0m \u001b[0mFalse\u001b[0m\u001b[0;34m:\u001b[0m\u001b[0;34m\u001b[0m\u001b[0m\n\u001b[0;32m---> 13\u001b[0;31m     \u001b[0mos\u001b[0m\u001b[0;34m.\u001b[0m\u001b[0mmkdir\u001b[0m\u001b[0;34m(\u001b[0m\u001b[0mcurated_dataset\u001b[0m\u001b[0;34m)\u001b[0m\u001b[0;34m\u001b[0m\u001b[0m\n\u001b[0m",
      "\u001b[0;31mOSError\u001b[0m: [Errno 2] No such file or directory: './dataset/test_cropped'"
     ]
    }
   ],
   "source": [
    "#----------------------------Arguments---------------------------------------\n",
    "dataset_type     = 'test' # Change to train/test\n",
    "dataset_dir      = './dataset'\n",
    "curated_dataset  = os.path.join(dataset_dir, dataset_type + '_cropped')\n",
    "curated_textfile = os.path.join(dataset_dir, dataset_type + '.txt')\n",
    "file_path        = './dataset/%s/' % (dataset_type)\n",
    "mat_file         = './dataset/%s/digitStruct.mat' % (dataset_type)\n",
    "expand_percent   = 30\n",
    "img_size         = (64, 64) # (width, height)\n",
    "max_steps        = 6\n",
    "\n",
    "if os.path.exists(curated_dataset) == False:\n",
    "    os.mkdir(curated_dataset)"
   ]
  },
  {
   "cell_type": "code",
   "execution_count": 6,
   "metadata": {
    "collapsed": true
   },
   "outputs": [],
   "source": [
    "ground_attention_downsample = (14, 14)"
   ]
  },
  {
   "cell_type": "code",
   "execution_count": 7,
   "metadata": {},
   "outputs": [
    {
     "name": "stdout",
     "output_type": "stream",
     "text": [
      "0.3\n"
     ]
    }
   ],
   "source": [
    "expand_percent = expand_percent/100.0\n",
    "print(expand_percent)"
   ]
  },
  {
   "cell_type": "code",
   "execution_count": 8,
   "metadata": {},
   "outputs": [
    {
     "name": "stdout",
     "output_type": "stream",
     "text": [
      "Total bboxes:  13068\n",
      "Completion..{0/13068}\n",
      "Completion..{500/13068}\n",
      "Completion..{1000/13068}\n",
      "Completion..{1500/13068}\n",
      "Completion..{2000/13068}\n",
      "Completion..{2500/13068}\n",
      "Completion..{3000/13068}\n",
      "Completion..{3500/13068}\n",
      "Completion..{4000/13068}\n",
      "Completion..{4500/13068}\n",
      "Completion..{5000/13068}\n",
      "Completion..{5500/13068}\n",
      "Completion..{6000/13068}\n",
      "Completion..{6500/13068}\n",
      "Completion..{7000/13068}\n",
      "Completion..{7500/13068}\n",
      "Completion..{8000/13068}\n",
      "Completion..{8500/13068}\n",
      "Completion..{9000/13068}\n",
      "Completion..{9500/13068}\n",
      "Completion..{10000/13068}\n",
      "Completion..{10500/13068}\n",
      "Completion..{11000/13068}\n",
      "Completion..{11500/13068}\n",
      "Completion..{12000/13068}\n",
      "Completion..{12500/13068}\n",
      "Completion..{13000/13068}\n",
      "Completion..{13068/13068}\n",
      "Completed!\n"
     ]
    }
   ],
   "source": [
    "f = h5py.File(mat_file,'r')\n",
    "print('Total bboxes: ', f['/digitStruct/name'].shape[0])\n",
    "\n",
    "all_data = []\n",
    "for j in range(f['/digitStruct/bbox'].shape[0]):\n",
    "#for j in range(1000):\n",
    "    img_name = get_name(j, f)\n",
    "    row_dict = get_bbox(j, f)\n",
    "\n",
    "    all_data.append([img_name, row_dict])\n",
    "\n",
    "    if j%500 == 0:\n",
    "        print('Completion..{%d/%d}' % (j, f['/digitStruct/bbox'].shape[0]))\n",
    "\n",
    "print('Completion..{%d/%d}' % (f['/digitStruct/bbox'].shape[0], f['/digitStruct/bbox'].shape[0]))\n",
    "print('Completed!')"
   ]
  },
  {
   "cell_type": "code",
   "execution_count": 9,
   "metadata": {
    "collapsed": true
   },
   "outputs": [],
   "source": [
    "# Create copy of samples to curate labels\n",
    "all_data_copy = deepcopy(all_data)"
   ]
  },
  {
   "cell_type": "markdown",
   "metadata": {},
   "source": [
    "### Visualize"
   ]
  },
  {
   "cell_type": "code",
   "execution_count": 10,
   "metadata": {
    "collapsed": true
   },
   "outputs": [],
   "source": [
    "sample_index = 3191"
   ]
  },
  {
   "cell_type": "code",
   "execution_count": 11,
   "metadata": {},
   "outputs": [
    {
     "name": "stdout",
     "output_type": "stream",
     "text": [
      "Path: ./dataset/test/3192.png\n"
     ]
    }
   ],
   "source": [
    "sample_imgph = all_data[sample_index][0]\n",
    "sample_image = cv2.imread(file_path+sample_imgph)\n",
    "sample_image_copy = deepcopy(sample_image)\n",
    "sample_heigt_org, sample_width_org, _ = sample_image.shape\n",
    "# Get how many digits:\n",
    "total_samples = np.array(all_data[sample_index][1]).shape[1]\n",
    "print('Path:', file_path+sample_imgph)"
   ]
  },
  {
   "cell_type": "code",
   "execution_count": 12,
   "metadata": {},
   "outputs": [
    {
     "data": {
      "image/png": "[encoded data removed]",
      "text/plain": [
       "<Figure size 432x288 with 1 Axes>"
      ]
     },
     "metadata": {},
     "output_type": "display_data"
    }
   ],
   "source": [
    "plt.imshow(sample_image)\n",
    "plt.show()"
   ]
  },
  {
   "cell_type": "code",
   "execution_count": 13,
   "metadata": {},
   "outputs": [
    {
     "data": {
      "text/plain": [
       "['3192.png',\n",
       " [[2.0, 5.0], [23.0, 25.0], [1.0, 25.0], [16.0, 14.0], [15.0, 15.0]]]"
      ]
     },
     "execution_count": 13,
     "metadata": {},
     "output_type": "execute_result"
    }
   ],
   "source": [
    "all_data[sample_index]"
   ]
  },
  {
   "cell_type": "code",
   "execution_count": 14,
   "metadata": {
    "collapsed": true
   },
   "outputs": [],
   "source": [
    "#-------------------------------------------------------------------\n",
    "## Get bounding box encompassing all digits\n",
    "low_left, low_top, high_width, high_height = biggest_box(all_data=all_data,\\\n",
    "                      sample_index=sample_index, total_samples=total_samples)"
   ]
  },
  {
   "cell_type": "code",
   "execution_count": 15,
   "metadata": {},
   "outputs": [
    {
     "data": {
      "text/plain": [
       "(-0.5, 64.5, 32.5, -0.5)"
      ]
     },
     "execution_count": 15,
     "metadata": {},
     "output_type": "execute_result"
    },
    {
     "data": {
      "image/png": "[encoded data removed]",
      "text/plain": [
       "<Figure size 432x288 with 1 Axes>"
      ]
     },
     "metadata": {},
     "output_type": "display_data"
    }
   ],
   "source": [
    "fig,ax = plt.subplots(1, 1)\n",
    "ax.text(0, 1, 'image', color='black', backgroundcolor='white', fontsize=8)\n",
    "ax.imshow(sample_image)\n",
    "rect = patches.Rectangle((low_left, low_top), high_width, high_height,\\\n",
    "                         linewidth=1, edgecolor='r', facecolor='none')\n",
    "ax.add_patch(rect)\n",
    "ax.axis('off')"
   ]
  },
  {
   "cell_type": "code",
   "execution_count": 18,
   "metadata": {
    "collapsed": true
   },
   "outputs": [],
   "source": [
    "def new_x(low_x, delta_W, width, image_width):\n",
    "    # Lower bound\n",
    "    if delta_W//2 >= low_x:\n",
    "        new_left = 0 # Reset to zero\n",
    "        change1w = low_x\n",
    "    elif (low_x - delta_W//2) > 0: \n",
    "        new_left = low_x - delta_W//2\n",
    "        change1w = delta_W//2\n",
    "    # Upper Bound\n",
    "    if (low_x + width + delta_W//2) < image_width:\n",
    "        change2w = delta_W//2\n",
    "    else:\n",
    "        change2w = image_width - (low_x + width) - 1 # Set to max-width\n",
    "    # New width\n",
    "    new_width = width + change1w + change2w\n",
    "        \n",
    "    return new_left, new_width"
   ]
  },
  {
   "cell_type": "code",
   "execution_count": 19,
   "metadata": {
    "collapsed": true
   },
   "outputs": [],
   "source": [
    "def new_y(low_y, delta_H, height, image_height):\n",
    "    # Lower bound\n",
    "    if (delta_H//2) >= low_y:\n",
    "        new_top  = 0 # Reset to zero\n",
    "        change1h = low_y\n",
    "    elif (low_y - delta_H//2) > 0: \n",
    "        new_top  = low_y - delta_H//2\n",
    "        change1h = delta_H//2\n",
    "    # Upper Bound\n",
    "    if (low_y + height + delta_H//2) < image_height:\n",
    "        change2h = delta_H//2\n",
    "    else:\n",
    "        change2h = image_height - (low_y + height) - 1 # Set to max-height\n",
    "    \n",
    "    # New height\n",
    "    new_height = height + change2h + change1h\n",
    "\n",
    "    return new_top, new_height "
   ]
  },
  {
   "cell_type": "code",
   "execution_count": 20,
   "metadata": {
    "collapsed": true
   },
   "outputs": [],
   "source": [
    "high_width_expand  = np.floor(expand_percent * high_width)\n",
    "high_height_expand = np.floor(expand_percent * high_height)"
   ]
  },
  {
   "cell_type": "code",
   "execution_count": 21,
   "metadata": {},
   "outputs": [
    {
     "name": "stdout",
     "output_type": "stream",
     "text": [
      "4.0\n",
      "11.0\n"
     ]
    }
   ],
   "source": [
    "print(high_width_expand)\n",
    "print(high_height_expand)"
   ]
  },
  {
   "cell_type": "code",
   "execution_count": 22,
   "metadata": {
    "collapsed": true
   },
   "outputs": [],
   "source": [
    "lx, nW = new_x(low_x=low_left, delta_W=high_width_expand,\\\n",
    "               width=high_width, image_width=sample_width_org)"
   ]
  },
  {
   "cell_type": "code",
   "execution_count": 23,
   "metadata": {},
   "outputs": [
    {
     "name": "stdout",
     "output_type": "stream",
     "text": [
      "21.0 20.0\n"
     ]
    }
   ],
   "source": [
    "print(lx, nW)"
   ]
  },
  {
   "cell_type": "code",
   "execution_count": 24,
   "metadata": {
    "collapsed": true
   },
   "outputs": [],
   "source": [
    "ly, nH = new_y(low_y=low_top, delta_H=high_height_expand,\\\n",
    "               height=high_height, image_height=sample_heigt_org)"
   ]
  },
  {
   "cell_type": "code",
   "execution_count": 25,
   "metadata": {},
   "outputs": [
    {
     "name": "stdout",
     "output_type": "stream",
     "text": [
      "0 32\n"
     ]
    }
   ],
   "source": [
    "print(ly, nH)"
   ]
  },
  {
   "cell_type": "code",
   "execution_count": 26,
   "metadata": {},
   "outputs": [
    {
     "data": {
      "text/plain": [
       "(-0.5, 64.5, 32.5, -0.5)"
      ]
     },
     "execution_count": 26,
     "metadata": {},
     "output_type": "execute_result"
    },
    {
     "data": {
      "image/png": "[encoded data removed]",
      "text/plain": [
       "<Figure size 432x288 with 1 Axes>"
      ]
     },
     "metadata": {},
     "output_type": "display_data"
    }
   ],
   "source": [
    "fig,ax = plt.subplots(1, 1)\n",
    "ax.text(0, 1, 'image', color='black', backgroundcolor='white', fontsize=8)\n",
    "ax.imshow(sample_image)\n",
    "rect = patches.Rectangle((lx, ly), nW, nH,\\\n",
    "                         linewidth=1, edgecolor='g', facecolor='none')\n",
    "rect1 = patches.Rectangle((low_left, low_top), high_width, high_height,\\\n",
    "                         linewidth=1, edgecolor='r', facecolor='none')\n",
    "ax.add_patch(rect)\n",
    "ax.add_patch(rect1)\n",
    "ax.axis('off')"
   ]
  },
  {
   "cell_type": "code",
   "execution_count": 27,
   "metadata": {},
   "outputs": [
    {
     "name": "stdout",
     "output_type": "stream",
     "text": [
      "23 1 16 39\n"
     ]
    }
   ],
   "source": [
    "print(low_left, low_top, high_width, high_height)"
   ]
  },
  {
   "cell_type": "code",
   "execution_count": 28,
   "metadata": {},
   "outputs": [
    {
     "name": "stdout",
     "output_type": "stream",
     "text": [
      "21.0 0 20.0 32\n"
     ]
    }
   ],
   "source": [
    "print(lx, ly, nW, nH)"
   ]
  },
  {
   "cell_type": "code",
   "execution_count": 29,
   "metadata": {
    "collapsed": true
   },
   "outputs": [],
   "source": [
    "#------- X-axis shift -------\n",
    "# Update\n",
    "for i in range(total_samples):\n",
    "    # Update lower bound-- left\n",
    "    all_data_copy[sample_index][1][1][i] -= lx       \n",
    "#------- Y-axis shift-------\n",
    "# Include fixed pixels from all upper bound-- top\n",
    "for i in range(total_samples):\n",
    "    all_data_copy[sample_index][1][2][i] -= ly"
   ]
  },
  {
   "cell_type": "code",
   "execution_count": 30,
   "metadata": {
    "collapsed": true
   },
   "outputs": [],
   "source": [
    "sample_image_copy = sample_image_copy[int(ly):int(ly + nH), int(lx):int(lx + nW), :]"
   ]
  },
  {
   "cell_type": "code",
   "execution_count": 31,
   "metadata": {},
   "outputs": [
    {
     "data": {
      "image/png": "[encoded data removed]",
      "text/plain": [
       "<Figure size 144x144 with 1 Axes>"
      ]
     },
     "metadata": {},
     "output_type": "display_data"
    }
   ],
   "source": [
    "plt.figure(figsize=(2, 2))\n",
    "plt.imshow(sample_image_copy)\n",
    "plt.show()"
   ]
  },
  {
   "cell_type": "code",
   "execution_count": 32,
   "metadata": {
    "collapsed": true
   },
   "outputs": [],
   "source": [
    "#-------------------------------------------------------------------\n",
    "## Get bounding box encompassing all digits\n",
    "low_left, low_top, high_width, high_height = biggest_box(all_data=all_data_copy,\\\n",
    "                      sample_index=sample_index, total_samples=total_samples)"
   ]
  },
  {
   "cell_type": "code",
   "execution_count": 33,
   "metadata": {},
   "outputs": [
    {
     "data": {
      "text/plain": [
       "<matplotlib.patches.Rectangle at 0x7f25ad93f690>"
      ]
     },
     "execution_count": 33,
     "metadata": {},
     "output_type": "execute_result"
    },
    {
     "data": {
      "image/png": "[encoded data removed]",
      "text/plain": [
       "<Figure size 432x288 with 1 Axes>"
      ]
     },
     "metadata": {},
     "output_type": "display_data"
    }
   ],
   "source": [
    "fig,ax = plt.subplots(1, 1)\n",
    "ax.text(0, 1, 'image', color='black', backgroundcolor='white', fontsize=8)\n",
    "ax.imshow(sample_image_copy)\n",
    "rect = patches.Rectangle((low_left, low_top), high_width, high_height,\\\n",
    "                         linewidth=1, edgecolor='r', facecolor='none')\n",
    "ax.add_patch(rect)"
   ]
  },
  {
   "cell_type": "code",
   "execution_count": 34,
   "metadata": {},
   "outputs": [
    {
     "data": {
      "text/plain": [
       "<matplotlib.image.AxesImage at 0x7f25ac420d90>"
      ]
     },
     "execution_count": 34,
     "metadata": {},
     "output_type": "execute_result"
    },
    {
     "data": {
      "image/png": "[encoded data removed]",
      "text/plain": [
       "<Figure size 432x288 with 1 Axes>"
      ]
     },
     "metadata": {},
     "output_type": "display_data"
    }
   ],
   "source": [
    "## Resize image\n",
    "sample_heigt_org_rz, sample_width_org_rz, _ = sample_image_copy.shape\n",
    "\n",
    "if sample_width_org_rz > img_size[0]:\n",
    "    # Shrinking\n",
    "    smpl_img_rz = cv2.resize(sample_image_copy, img_size, interpolation = cv2.INTER_AREA)\n",
    "else:\n",
    "    # Zooming\n",
    "    smpl_img_rz = cv2.resize(sample_image_copy, img_size, interpolation = cv2.INTER_LINEAR)\n",
    "\n",
    "plt.imshow(smpl_img_rz)"
   ]
  },
  {
   "cell_type": "markdown",
   "metadata": {},
   "source": [
    "### Curate labels to match new image shape"
   ]
  },
  {
   "cell_type": "code",
   "execution_count": 37,
   "metadata": {
    "collapsed": true
   },
   "outputs": [],
   "source": [
    "# Collect samples\n",
    "samples = []\n",
    "\n",
    "for index_into in range(max_steps):\n",
    "    if index_into == 0:\n",
    "        sample_label = 0\n",
    "        sample_left  = 1\n",
    "        sample_top   = 1\n",
    "        sample_width = 1\n",
    "        sample_heigt = 1\n",
    "    elif index_into > total_samples:\n",
    "        sample_label = 11\n",
    "        sample_left  = 0\n",
    "        sample_top   = 0\n",
    "        sample_width = 0\n",
    "        sample_heigt = 0\n",
    "    else:\n",
    "        sample_label = int(all_data_copy[sample_index][1][0][index_into-1])\n",
    "        sample_left  = abs(int((all_data_copy[sample_index][1][1][index_into-1] * img_size[0])/sample_width_org_rz))\n",
    "        sample_top   = abs(int((all_data_copy[sample_index][1][2][index_into-1] * img_size[1])/sample_heigt_org_rz))\n",
    "        sample_width = abs(int((all_data_copy[sample_index][1][3][index_into-1] * img_size[0])/sample_width_org_rz))\n",
    "        sample_heigt = abs(int((all_data_copy[sample_index][1][4][index_into-1] * img_size[1])/sample_heigt_org_rz))\n",
    "\n",
    "    # Append\n",
    "    samples.append([all_data_copy[sample_index][0][:-4], sample_label, sample_left, sample_top, sample_width, sample_heigt])"
   ]
  },
  {
   "cell_type": "code",
   "execution_count": 38,
   "metadata": {},
   "outputs": [
    {
     "data": {
      "text/plain": [
       "[['3192', 0, 1, 1, 1, 1],\n",
       " ['3192', 2, 6, 2, 51, 30],\n",
       " ['3192', 5, 12, 50, 44, 30],\n",
       " ['3192', 11, 0, 0, 0, 0],\n",
       " ['3192', 11, 0, 0, 0, 0],\n",
       " ['3192', 11, 0, 0, 0, 0]]"
      ]
     },
     "execution_count": 38,
     "metadata": {},
     "output_type": "execute_result"
    }
   ],
   "source": [
    "samples"
   ]
  },
  {
   "cell_type": "code",
   "execution_count": 39,
   "metadata": {},
   "outputs": [
    {
     "name": "stdout",
     "output_type": "stream",
     "text": [
      "1 1 1 1\n",
      "6 2 51 30\n",
      "12 50 44 30\n",
      "0 0 0 0\n",
      "0 0 0 0\n",
      "0 0 0 0\n"
     ]
    },
    {
     "data": {
      "image/png": "[encoded data removed]",
      "text/plain": [
       "<Figure size 432x288 with 7 Axes>"
      ]
     },
     "metadata": {},
     "output_type": "display_data"
    }
   ],
   "source": [
    "fig,ax = plt.subplots(1, max_steps+1)\n",
    "ax[0].imshow(smpl_img_rz)\n",
    "ax[0].axis('off')\n",
    "        \n",
    "for k in range(max_steps):\n",
    "    sample_label = samples[k][1]\n",
    "    sample_left  = samples[k][2]\n",
    "    sample_top   = samples[k][3]\n",
    "    sample_width = samples[k][4]\n",
    "    sample_heigt = samples[k][5]\n",
    "    \n",
    "    rect = patches.Rectangle((sample_left, sample_top), sample_width, sample_heigt,\\\n",
    "                             linewidth=1, edgecolor='g', facecolor='none')  \n",
    "    print(sample_left, sample_top, sample_width, sample_heigt)    \n",
    "    ax[k+1].text(0, 1, sample_label, color='black', backgroundcolor='white', fontsize=8)\n",
    "    ax[k+1].imshow(smpl_img_rz)\n",
    "    ax[k+1].add_patch(rect)\n",
    "    ax[k+1].axis('off')"
   ]
  },
  {
   "cell_type": "code",
   "execution_count": 42,
   "metadata": {},
   "outputs": [
    {
     "name": "stdout",
     "output_type": "stream",
     "text": [
      "0 0 0 0\n"
     ]
    }
   ],
   "source": [
    "print(sample_left, sample_top, sample_width, sample_heigt)"
   ]
  },
  {
   "cell_type": "markdown",
   "metadata": {},
   "source": [
    "### Extra: check attention on the resized"
   ]
  },
  {
   "cell_type": "code",
   "execution_count": 43,
   "metadata": {
    "collapsed": true
   },
   "outputs": [],
   "source": [
    "def gaussian2d(sup, scales):\n",
    "    \"\"\"\n",
    "    Creates a 2D Gaussian based on the size and scale.\n",
    "    \"\"\"\n",
    "    var   = scales * scales\n",
    "    shape = (sup[0], sup[1])\n",
    "    n,m   = [(i-1)/2 for i in shape]\n",
    "    y,x   = np.ogrid[-m:m+1,-n:n+1]\n",
    "    g = (1/np.sqrt(2*np.pi*var))*np.exp( -(x*x + y*y) / (2*var))\n",
    "\n",
    "    return g"
   ]
  },
  {
   "cell_type": "code",
   "execution_count": 44,
   "metadata": {
    "collapsed": true
   },
   "outputs": [],
   "source": [
    "def softmax(x):\n",
    "    \"\"\"\n",
    "    Compute softmax values for each sets of scores in x.\n",
    "    \"\"\"\n",
    "    e_x = np.exp(x - np.max(x))\n",
    "\n",
    "    return e_x / e_x.sum(axis=0)"
   ]
  },
  {
   "cell_type": "code",
   "execution_count": 45,
   "metadata": {
    "collapsed": true
   },
   "outputs": [],
   "source": [
    "def generate_ground_gaussian_attention_mask(sample, sample_top, sample_height, sample_left, sample_width):\n",
    "    \"\"\"\n",
    "    Creates a ground truth attention mask based on ground truth bounding boxes,\n",
    "    and scales to fit into the box.\n",
    "    \"\"\"\n",
    "    sample_image_height, sample_image_width, _ = sample.shape \n",
    "    scales = np.sqrt(2) * 10 # Play with the standard deviation\n",
    "    \n",
    "    # Convert even to odd by adding extra px\n",
    "    if sample_width%2 == 0:\n",
    "        sample_width += 1\n",
    "    \n",
    "    if sample_height%2 == 0:\n",
    "        sample_height += 1\n",
    "    \n",
    "    gaussain = gaussian2d((sample_width, sample_height), scales)\n",
    "    gaussain_normalized = (gaussain - np.min(gaussain))/\\\n",
    "                          (np.max(gaussain) - np.min(gaussain))\n",
    "\n",
    "    sample_attention = np.zeros((sample_image_height, sample_image_width)) * 0.0\n",
    "    \n",
    "    sample_attention[sample_top:sample_top+sample_height, sample_left:sample_left+sample_width] = gaussain_normalized\n",
    "\n",
    "    sample_attention_res  = resize(sample_attention, output_shape=ground_attention_downsample,\\\n",
    "                                   order=0, mode='constant',cval=0, clip=True,\\\n",
    "                                   preserve_range=False, anti_aliasing=False,\\\n",
    "                                   anti_aliasing_sigma=None)\n",
    "\n",
    "    sample_attention_res  = sample_attention_res.flatten()\n",
    "\n",
    "    sample_attention_res_norm = softmax(sample_attention_res)\n",
    "    sample_attention_res_norm = np.reshape(sample_attention_res_norm, ground_attention_downsample)\n",
    "\n",
    "    return sample_attention, sample_attention_res_norm"
   ]
  },
  {
   "cell_type": "code",
   "execution_count": 46,
   "metadata": {
    "collapsed": true
   },
   "outputs": [],
   "source": [
    "def generate_start_attention_mask_v1():\n",
    "    \"\"\"\n",
    "    Create an attention mask for the stop state, which is a\n",
    "    uniform mask around the digits.\n",
    "    \"\"\"\n",
    "    sample_image_height, sample_image_width = img_size\n",
    "\n",
    "    x = np.ones((sample_image_height, sample_image_width)) * 1.0\n",
    "    x = x / (sample_image_height*sample_image_width)\n",
    "\n",
    "    # Downsample and re-normalize between 0 and 1\n",
    "    x1 = np.zeros(ground_attention_downsample) * 0.0\n",
    "    x1[0, 0] = 1.0\n",
    "\n",
    "    return x, x1"
   ]
  },
  {
   "cell_type": "code",
   "execution_count": 47,
   "metadata": {
    "collapsed": true
   },
   "outputs": [],
   "source": [
    "def generate_stop_attention_mask_v2():\n",
    "    \"\"\"\n",
    "    Create an attention mask for the stop state, which is a\n",
    "    uniform mask around the digits.\n",
    "    \"\"\"\n",
    "    sample_image_height, sample_image_width = img_size\n",
    "\n",
    "    x = np.zeros((sample_image_height, sample_image_width)) * 0.0\n",
    "    x[-1, -1] = 1.0\n",
    "\n",
    "    # Downsample and re-normalize between 0 and 1\n",
    "    x1 = np.zeros(ground_attention_downsample) * 0.0\n",
    "    x1[-1, -1] = 1.0\n",
    "\n",
    "    return x, x1"
   ]
  },
  {
   "cell_type": "code",
   "execution_count": 48,
   "metadata": {
    "collapsed": true
   },
   "outputs": [],
   "source": [
    "def biggest_box1(samples):\n",
    "    all_left  = []\n",
    "    all_top   = []\n",
    "    all_width = []\n",
    "    all_heigt = []\n",
    "\n",
    "    for k in range(total_samples):\n",
    "        sample_label = samples[k][1]\n",
    "        sample_left  = samples[k][2]\n",
    "        sample_top   = samples[k][3]\n",
    "        sample_width = samples[k][4]\n",
    "        sample_heigt = samples[k][5]\n",
    "\n",
    "        all_left.append(sample_left)\n",
    "        all_top.append(sample_top)\n",
    "        all_width.append(sample_left+sample_width)\n",
    "        all_heigt.append(sample_top+sample_heigt)\n",
    "\n",
    "    low_left = min(all_left)\n",
    "    low_top  = min(all_top)\n",
    "    highest_width = max(all_width) - low_left\n",
    "    highest_height = max(all_heigt) - low_top\n",
    "    \n",
    "    return low_left, low_top, highest_width, highest_height"
   ]
  },
  {
   "cell_type": "code",
   "execution_count": 49,
   "metadata": {
    "collapsed": true
   },
   "outputs": [],
   "source": [
    "# fig,ax = plt.subplots(1, max_steps+1)\n",
    "# ax[0].imshow(smpl_img_rz)\n",
    "# ax[0].axis('off')\n",
    "# collect_acc = []\n",
    "# for k in range(max_steps):\n",
    "#     sample_label = samples[k][1]\n",
    "#     sample_left  = samples[k][2]\n",
    "#     sample_top   = samples[k][3]\n",
    "#     sample_width = samples[k][4]\n",
    "#     sample_heigt = samples[k][5]\n",
    "\n",
    "#     # Generate attention mask\n",
    "#     if k == 0:\n",
    "#         # Start state\n",
    "#         _, attn_mask = generate_start_attention_mask_v1()\n",
    "#     elif int(sample_label) == 11:\n",
    "#         # End state\n",
    "#         _, attn_mask = generate_stop_attention_mask_v2()\n",
    "#     else:\n",
    "#         attn_mask, acc = generate_ground_gaussian_attention_mask(smpl_img_rz,\\\n",
    "#                               sample_top, sample_heigt, sample_left, sample_width)\n",
    "#         collect_acc.append(acc)\n",
    "        \n",
    "#     rect = patches.Rectangle((sample_left, sample_top), sample_width, sample_heigt,\\\n",
    "#                               linewidth=1, edgecolor='r', facecolor='none')  \n",
    "#     ax[k+1].text(0, 1, sample_label, color='black', backgroundcolor='white', fontsize=8)\n",
    "#     ax[k+1].imshow(smpl_img_rz)\n",
    "#     ax[k+1].imshow(attn_mask, alpha=0.5)\n",
    "#     ax[k+1].add_patch(rect)\n",
    "#     ax[k+1].axis('off')"
   ]
  },
  {
   "cell_type": "code",
   "execution_count": 50,
   "metadata": {
    "collapsed": true
   },
   "outputs": [],
   "source": [
    "# Collect samples\n",
    "attn_samples = []\n",
    "\n",
    "for k in range(max_steps):\n",
    "    sample_label = samples[k][1]\n",
    "    sample_left  = samples[k][2]\n",
    "    sample_top   = samples[k][3]\n",
    "    sample_width = samples[k][4]\n",
    "    sample_heigt = samples[k][5]\n",
    "    \n",
    "    if k == 0:\n",
    "        continue\n",
    "    elif k > total_samples:\n",
    "        continue\n",
    "    else:\n",
    "        sample_left  = int(np.floor((sample_left  * 14)/64))\n",
    "        sample_top   = int(np.floor((sample_top   * 14)/64))\n",
    "        sample_width = int(np.floor((sample_width * 14)/64))\n",
    "        sample_heigt = int(np.floor((sample_heigt * 14)/64))\n",
    "\n",
    "    # Append\n",
    "    attn_samples.append([sample_left, sample_top, sample_width, sample_heigt])"
   ]
  },
  {
   "cell_type": "code",
   "execution_count": 51,
   "metadata": {},
   "outputs": [
    {
     "name": "stdout",
     "output_type": "stream",
     "text": [
      "0 0 0 0\n"
     ]
    }
   ],
   "source": [
    "print(sample_left, sample_top, sample_width, sample_heigt)"
   ]
  },
  {
   "cell_type": "code",
   "execution_count": 52,
   "metadata": {},
   "outputs": [
    {
     "data": {
      "text/plain": [
       "2"
      ]
     },
     "execution_count": 52,
     "metadata": {},
     "output_type": "execute_result"
    }
   ],
   "source": [
    "len(attn_samples)"
   ]
  },
  {
   "cell_type": "code",
   "execution_count": 72,
   "metadata": {
    "collapsed": true
   },
   "outputs": [],
   "source": [
    "def generate_ground_gaussian_attention_mask_v2(sample_size, sample_top, sample_height, sample_left, sample_width):\n",
    "    \"\"\"\n",
    "    Creates a ground truth attention mask based on ground truth bounding boxes,\n",
    "    and scales to fit into the box.\n",
    "    \"\"\"\n",
    "    sample_image_height, sample_image_width = sample_size\n",
    "    print(sample_top, sample_height, sample_left, sample_width)\n",
    "    scales = np.sqrt(2) * 5 # Play with the standard deviation\n",
    "    \n",
    "    # Check size:\n",
    "    if sample_left + sample_width >= sample_image_width:\n",
    "        delta_w = (sample_left + sample_width) - sample_image_width\n",
    "        sample_width -= delta_w\n",
    "\n",
    "    if sample_top + sample_height >= sample_image_height:\n",
    "        delta_h = (sample_top + sample_height) - sample_image_height\n",
    "        sample_height -= delta_h\n",
    "\n",
    "    print(sample_height, sample_width)\n",
    "    # Convert even to odd by adding or removing extra px\n",
    "    if sample_width%2 == 0:\n",
    "        if sample_left + sample_width + 1 >= sample_image_width:\n",
    "            sample_width -= 1\n",
    "        else:\n",
    "            sample_width += 1\n",
    "    \n",
    "    if sample_height%2 == 0:\n",
    "        if sample_top + sample_height + 1 >= sample_image_height:\n",
    "            sample_height -= 1\n",
    "        else:\n",
    "            sample_height += 1\n",
    "            \n",
    "    print(sample_height, sample_width)\n",
    "    gaussain = gaussian2d((sample_width, sample_height), scales)\n",
    "    print(gaussain.shape)\n",
    "    gaussain_normalized = (gaussain - np.min(gaussain))/\\\n",
    "                          (np.max(gaussain) - np.min(gaussain))\n",
    "    h_gauss_norm, w_gauss_norm = gaussain_normalized.shape\n",
    "    gaussain_normalized = gaussain_normalized.flatten()\n",
    "    gaussain_normalized = softmax(gaussain_normalized)\n",
    "    gaussain_normalized = np.reshape(gaussain_normalized, (h_gauss_norm, w_gauss_norm))\n",
    "    \n",
    "    sample_attention = np.zeros((sample_image_height, sample_image_width)) * 0.0\n",
    "    print(sample_top, sample_top+sample_height)\n",
    "    print(sample_left,sample_left+sample_width)\n",
    "    \n",
    "    sample_attention[sample_top:sample_top+sample_height, sample_left:sample_left+sample_width] = gaussain_normalized\n",
    "\n",
    "    return sample_attention"
   ]
  },
  {
   "cell_type": "code",
   "execution_count": 73,
   "metadata": {},
   "outputs": [
    {
     "name": "stdout",
     "output_type": "stream",
     "text": [
      "0 6 1 11\n",
      "6 11\n",
      "7 11\n",
      "(7, 11)\n",
      "0 7\n",
      "1 12\n",
      "---------------------------\n",
      "10 6 2 9\n",
      "4 9\n",
      "3 9\n",
      "(3, 9)\n",
      "10 13\n",
      "2 11\n",
      "---------------------------\n"
     ]
    }
   ],
   "source": [
    "# Collect samples\n",
    "gen_samples = []\n",
    "for k in range(len(attn_samples)):\n",
    "    sample_left  = attn_samples[k][0]\n",
    "    sample_top   = attn_samples[k][1]\n",
    "    sample_width = attn_samples[k][2]\n",
    "    sample_heigt = attn_samples[k][3]\n",
    "    \n",
    "    gen_sample = generate_ground_gaussian_attention_mask_v2((14,14), sample_top, sample_heigt, sample_left, sample_width)\n",
    "    print('---------------------------')\n",
    "    gen_samples.append(gen_sample)"
   ]
  },
  {
   "cell_type": "code",
   "execution_count": 74,
   "metadata": {},
   "outputs": [
    {
     "data": {
      "text/plain": [
       "[[1, 0, 11, 6], [2, 10, 9, 6]]"
      ]
     },
     "execution_count": 74,
     "metadata": {},
     "output_type": "execute_result"
    }
   ],
   "source": [
    "attn_samples"
   ]
  },
  {
   "cell_type": "code",
   "execution_count": 75,
   "metadata": {},
   "outputs": [
    {
     "data": {
      "text/plain": [
       "(14, 14)"
      ]
     },
     "execution_count": 75,
     "metadata": {},
     "output_type": "execute_result"
    }
   ],
   "source": [
    "gen_samples[0].shape"
   ]
  },
  {
   "cell_type": "code",
   "execution_count": 76,
   "metadata": {},
   "outputs": [
    {
     "data": {
      "text/plain": [
       "array([[0.        , 0.00714115, 0.00901088, 0.01096108, 0.01271689,\n",
       "        0.01395324, 0.01440049, 0.01395324, 0.01271689, 0.01096108,\n",
       "        0.00901088, 0.00714115, 0.        , 0.        ],\n",
       "       [0.        , 0.00810504, 0.01034981, 0.01271689, 0.01486678,\n",
       "        0.01638992, 0.01694266, 0.01638992, 0.01486678, 0.01271689,\n",
       "        0.01034981, 0.00810504, 0.        , 0.        ],\n",
       "       [0.        , 0.00877185, 0.01128502, 0.01395324, 0.01638992,\n",
       "        0.01812286, 0.01875297, 0.01812286, 0.01638992, 0.01395324,\n",
       "        0.01128502, 0.00877185, 0.        , 0.        ],\n",
       "       [0.        , 0.00901088, 0.01162192, 0.01440049, 0.01694266,\n",
       "        0.01875297, 0.01941166, 0.01875297, 0.01694266, 0.01440049,\n",
       "        0.01162192, 0.00901088, 0.        , 0.        ],\n",
       "       [0.        , 0.00877185, 0.01128502, 0.01395324, 0.01638992,\n",
       "        0.01812286, 0.01875297, 0.01812286, 0.01638992, 0.01395324,\n",
       "        0.01128502, 0.00877185, 0.        , 0.        ],\n",
       "       [0.        , 0.00810504, 0.01034981, 0.01271689, 0.01486678,\n",
       "        0.01638992, 0.01694266, 0.01638992, 0.01486678, 0.01271689,\n",
       "        0.01034981, 0.00810504, 0.        , 0.        ],\n",
       "       [0.        , 0.00714115, 0.00901088, 0.01096108, 0.01271689,\n",
       "        0.01395324, 0.01440049, 0.01395324, 0.01271689, 0.01096108,\n",
       "        0.00901088, 0.00714115, 0.        , 0.        ],\n",
       "       [0.        , 0.        , 0.        , 0.        , 0.        ,\n",
       "        0.        , 0.        , 0.        , 0.        , 0.        ,\n",
       "        0.        , 0.        , 0.        , 0.        ],\n",
       "       [0.        , 0.        , 0.        , 0.        , 0.        ,\n",
       "        0.        , 0.        , 0.        , 0.        , 0.        ,\n",
       "        0.        , 0.        , 0.        , 0.        ],\n",
       "       [0.        , 0.        , 0.        , 0.        , 0.        ,\n",
       "        0.        , 0.        , 0.        , 0.        , 0.        ,\n",
       "        0.        , 0.        , 0.        , 0.        ],\n",
       "       [0.        , 0.        , 0.        , 0.        , 0.        ,\n",
       "        0.        , 0.        , 0.        , 0.        , 0.        ,\n",
       "        0.        , 0.        , 0.        , 0.        ],\n",
       "       [0.        , 0.        , 0.        , 0.        , 0.        ,\n",
       "        0.        , 0.        , 0.        , 0.        , 0.        ,\n",
       "        0.        , 0.        , 0.        , 0.        ],\n",
       "       [0.        , 0.        , 0.        , 0.        , 0.        ,\n",
       "        0.        , 0.        , 0.        , 0.        , 0.        ,\n",
       "        0.        , 0.        , 0.        , 0.        ],\n",
       "       [0.        , 0.        , 0.        , 0.        , 0.        ,\n",
       "        0.        , 0.        , 0.        , 0.        , 0.        ,\n",
       "        0.        , 0.        , 0.        , 0.        ]])"
      ]
     },
     "execution_count": 76,
     "metadata": {},
     "output_type": "execute_result"
    }
   ],
   "source": [
    "gen_samples[0]"
   ]
  },
  {
   "cell_type": "code",
   "execution_count": 77,
   "metadata": {},
   "outputs": [
    {
     "data": {
      "text/plain": [
       "1.0"
      ]
     },
     "execution_count": 77,
     "metadata": {},
     "output_type": "execute_result"
    }
   ],
   "source": [
    "np.sum(gen_samples[0])"
   ]
  },
  {
   "cell_type": "code",
   "execution_count": 78,
   "metadata": {},
   "outputs": [
    {
     "data": {
      "image/png": "[encoded data removed]",
      "text/plain": [
       "<Figure size 432x288 with 3 Axes>"
      ]
     },
     "metadata": {},
     "output_type": "display_data"
    }
   ],
   "source": [
    "fig,ax = plt.subplots(1, len(gen_samples)+1)\n",
    "for k in range(len(gen_samples)):\n",
    "    ax[k].imshow(gen_samples[k])\n",
    "    ax[k].axis('off')"
   ]
  },
  {
   "cell_type": "code",
   "execution_count": 50,
   "metadata": {},
   "outputs": [
    {
     "name": "stdout",
     "output_type": "stream",
     "text": [
      "0.0\n",
      "0.012485610428483994\n",
      "--------------------\n"
     ]
    }
   ],
   "source": [
    "for k in range(len(gen_samples)):\n",
    "    print(np.min(gen_samples[k]))\n",
    "    print(np.max(gen_samples[k]))\n",
    "    print('--------------------')"
   ]
  },
  {
   "cell_type": "code",
   "execution_count": null,
   "metadata": {
    "collapsed": true
   },
   "outputs": [],
   "source": []
  }
 ],
 "metadata": {
  "kernelspec": {
   "display_name": "Python 2",
   "language": "python",
   "name": "python2"
  },
  "language_info": {
   "codemirror_mode": {
    "name": "ipython",
    "version": 2
   },
   "file_extension": ".py",
   "mimetype": "text/x-python",
   "name": "python",
   "nbconvert_exporter": "python",
   "pygments_lexer": "ipython2",
   "version": "2.7.13"
  }
 },
 "nbformat": 4,
 "nbformat_minor": 2
}
