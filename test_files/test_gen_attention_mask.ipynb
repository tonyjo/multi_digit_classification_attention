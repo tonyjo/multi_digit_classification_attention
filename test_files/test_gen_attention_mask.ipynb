{
 "cells": [
  {
   "cell_type": "code",
   "execution_count": 2,
   "metadata": {},
   "outputs": [],
   "source": [
    "from __future__ import print_function\n",
    "import os\n",
    "import cv2\n",
    "import h5py\n",
    "import numpy as np\n",
    "import skimage.transform\n",
    "import matplotlib.pyplot as plt\n",
    "%matplotlib inline\n",
    "import warnings\n",
    "warnings.filterwarnings(\"ignore\")"
   ]
  },
  {
   "cell_type": "code",
   "execution_count": 3,
   "metadata": {},
   "outputs": [],
   "source": [
    "import matplotlib.patches as patches"
   ]
  },
  {
   "cell_type": "code",
   "execution_count": 4,
   "metadata": {},
   "outputs": [],
   "source": [
    "dataset_type     = 'test' # Change to train/test\n",
    "dataset_dir      = './dataset'\n",
    "curated_dataset  = os.path.join(dataset_dir, dataset_type + '_cropped')\n",
    "curated_textfile = os.path.join(dataset_dir, dataset_type + '.txt')\n",
    "ground_attn_dir  = os.path.join(dataset_dir, dataset_type + '_attn_grnd')\n",
    "file_path        = './dataset/%s/' % (dataset_type)\n",
    "img_size         = (64, 64) #(width, height)\n",
    "max_steps        = 6\n",
    "ground_attention_downsample = (14, 14) #(width, height)"
   ]
  },
  {
   "cell_type": "markdown",
   "metadata": {},
   "source": [
    "### Functions"
   ]
  },
  {
   "cell_type": "code",
   "execution_count": 5,
   "metadata": {},
   "outputs": [],
   "source": [
    "def load_file(curated_textfile):\n",
    "    all_data = []\n",
    "\n",
    "    with open(curated_textfile, 'r') as f:\n",
    "        frames = f.readlines()\n",
    "\n",
    "    for frame in frames:\n",
    "        frame = frame.split(', ')\n",
    "        iterm_data = []\n",
    "\n",
    "        # Remove all non-interger characters\n",
    "        for i in frame:\n",
    "            i = i.replace(\"[\", \"\")\n",
    "            i = i.replace(\"[[\", \"\")\n",
    "            i = i.replace(\"]\", \"\")\n",
    "            i = i.replace(\"]]\", \"\")\n",
    "            i = i.replace(\"'\", \"\")\n",
    "\n",
    "            iterm_data.append(int(i))\n",
    "\n",
    "        final_data = []\n",
    "\n",
    "        count = 0\n",
    "        for u in range(max_steps):\n",
    "            each_data = []\n",
    "            for k in range(6):\n",
    "                if k == 0:\n",
    "                    each_data.append(str(iterm_data[count]) + '.png')\n",
    "                else:\n",
    "                    each_data.append(iterm_data[count])\n",
    "\n",
    "                count += 1\n",
    "\n",
    "            final_data.append(each_data)\n",
    "\n",
    "        all_data.append(final_data)\n",
    "\n",
    "    return all_data"
   ]
  },
  {
   "cell_type": "code",
   "execution_count": 6,
   "metadata": {},
   "outputs": [
    {
     "name": "stdout",
     "output_type": "stream",
     "text": [
      "Data loaded!\n"
     ]
    }
   ],
   "source": [
    "# Load data\n",
    "all_data = load_file(curated_textfile)\n",
    "print('Data loaded!')"
   ]
  },
  {
   "cell_type": "code",
   "execution_count": 43,
   "metadata": {},
   "outputs": [],
   "source": [
    "def gaussian2d(sup, scales):\n",
    "    \"\"\"\n",
    "    Creates a 2D Gaussian based on the size and scale.\n",
    "    \"\"\"\n",
    "    var   = scales * scales\n",
    "    shape = (sup[0], sup[1])\n",
    "    n,m   = [(i-1)/2 for i in shape]\n",
    "    y,x   = np.ogrid[-m:m+1,-n:n+1]\n",
    "    \n",
    "    g = (1/np.sqrt(2*np.pi*var))*np.exp( -(x*x + y*y) / (2*var))\n",
    "\n",
    "    return g"
   ]
  },
  {
   "cell_type": "code",
   "execution_count": 32,
   "metadata": {},
   "outputs": [],
   "source": [
    "def softmax(x):\n",
    "    \"\"\"\n",
    "    Compute softmax values for each sets of scores in x.\n",
    "    \"\"\"\n",
    "    e_x = np.exp(x - np.max(x))\n",
    "\n",
    "    return e_x / e_x.sum(axis=0)"
   ]
  },
  {
   "cell_type": "code",
   "execution_count": 33,
   "metadata": {},
   "outputs": [],
   "source": [
    "def generate_ground_gaussian_attention_mask(sample, sample_top, sample_height, sample_left, sample_width):\n",
    "    \"\"\"\n",
    "    Creates a ground truth attention mask based on ground truth bounding boxes,\n",
    "    and scales to fit into the box.\n",
    "    \"\"\"\n",
    "    sample_image_height, sample_image_width, _ = sample.shape \n",
    "    scales = np.sqrt(2) * 15 # Play with the standard deviation\n",
    "    \n",
    "    # Convert even to odd by adding extra px\n",
    "    if sample_width%2 == 0:\n",
    "        sample_width += 1\n",
    "    \n",
    "    if sample_height%2 == 0:\n",
    "        sample_height += 1\n",
    "    \n",
    "    gaussain = gaussian2d((sample_width, sample_height), scales)\n",
    "    # Normalize between zero and 1\n",
    "    gaussain_normalized = (gaussain - np.min(gaussain))/\\\n",
    "                          (np.max(gaussain) - np.min(gaussain))\n",
    "\n",
    "    sample_attention = np.zeros((sample_image_height, sample_image_width)) * 0.0\n",
    "    sample_attention[sample_top:sample_top+sample_height, sample_left:sample_left+sample_width] = gaussain_normalized\n",
    "        \n",
    "    sample_attention_res  = cv2.resize(sample_attention, ground_attention_downsample, interpolation=cv2.INTER_NEAREST)\n",
    "    \n",
    "    # Convert to pro\n",
    "    #sample_attention_res_norm  = sample_attention_res.flatten()\n",
    "\n",
    "    #sample_attention_res_norm = softmax(sample_attention_res)\n",
    "    #sample_attention_res_norm = np.reshape(sample_attention_res_norm, ground_attention_downsample)\n",
    "\n",
    "    return sample_attention, sample_attention_res"
   ]
  },
  {
   "cell_type": "code",
   "execution_count": 34,
   "metadata": {},
   "outputs": [],
   "source": [
    "def biggest_box(samples, total_samples):\n",
    "    \"\"\"\n",
    "    Compute the box encompassing all the digits.\n",
    "    \"\"\"\n",
    "    all_left  = []\n",
    "    all_top   = []\n",
    "    all_width = []\n",
    "    all_heigt = []\n",
    "\n",
    "    for k in range(total_samples):\n",
    "        sample_label = samples[k][1]\n",
    "        sample_left  = samples[k][2]\n",
    "        sample_top   = samples[k][3]\n",
    "        sample_width = samples[k][4]\n",
    "        sample_heigt = samples[k][5]\n",
    "\n",
    "        all_left.append(sample_left)\n",
    "        all_top.append(sample_top)\n",
    "        all_width.append(sample_left+sample_width)\n",
    "        all_heigt.append(sample_top+sample_heigt)\n",
    "\n",
    "    low_left = min(all_left)\n",
    "    low_top  = min(all_top)\n",
    "    highest_width = max(all_width) - low_left\n",
    "    highest_height = max(all_heigt) - low_top\n",
    "\n",
    "    return low_left, low_top, highest_width, highest_height"
   ]
  },
  {
   "cell_type": "code",
   "execution_count": 145,
   "metadata": {},
   "outputs": [],
   "source": [
    "def generate_stop_attention_mask(samples, sample_image, total_samples):\n",
    "    \"\"\"\n",
    "    Create an attention mask for the stop state, which is a\n",
    "    uniform mask around the digits.\n",
    "    \"\"\"\n",
    "    sample_image_height, sample_image_width, _ = sample_image.shape\n",
    "\n",
    "    low_left, low_top, highest_width, highest_height = biggest_box(samples, total_samples)\n",
    "\n",
    "    x = np.ones((sample_image_height, sample_image_width))\n",
    "\n",
    "    mask = np.ones((sample_image_height, sample_image_width))\n",
    "    mask[low_top:low_top+highest_height, low_left:low_left+highest_width] = 0\n",
    "\n",
    "    x2 = np.multiply(x, mask)\n",
    "\n",
    "    # Downsample and re-normalize between 0 and 1\n",
    "    x3_1 = cv2.resize(x2, ground_attention_downsample, interpolation=cv2.INTER_NEAREST)\n",
    "    x3_1 = np.float32(x3_1.flatten())\n",
    "    x3_1 = x3_1/np.sum(x3_1) + 1e-5 # For numerical stability\n",
    "\n",
    "    return x2, x3_1"
   ]
  },
  {
   "cell_type": "markdown",
   "metadata": {},
   "source": [
    "### Main"
   ]
  },
  {
   "cell_type": "code",
   "execution_count": 62,
   "metadata": {},
   "outputs": [],
   "source": [
    "#------------------------------------------------------------------------------\n",
    "dataset_type     = 'test' # Change to train/test\n",
    "dataset_dir      = './dataset'\n",
    "curated_dataset  = os.path.join(dataset_dir, dataset_type + '_cropped')\n",
    "curated_textfile = os.path.join(dataset_dir, dataset_type + '.txt')\n",
    "file_path        = './dataset/%s/' % (dataset_type)\n",
    "img_size         = (64, 64) # (width, height)\n",
    "max_steps        = 5\n",
    "ground_attention_downsample = (7, 7)"
   ]
  },
  {
   "cell_type": "code",
   "execution_count": 63,
   "metadata": {},
   "outputs": [],
   "source": [
    "all_data = []\n",
    "\n",
    "with open(curated_textfile, 'r') as f:\n",
    "    frames = f.readlines()\n",
    "\n",
    "for frame in frames:\n",
    "    frame = frame.split(', ')\n",
    "    iterm_data = []\n",
    "\n",
    "    # Remove all non-interger characters\n",
    "    for i in frame:\n",
    "        i = i.replace(\"[\", \"\")\n",
    "        i = i.replace(\"[[\", \"\")\n",
    "        i = i.replace(\"]\", \"\")\n",
    "        i = i.replace(\"]]\", \"\")\n",
    "        i = i.replace(\"'\", \"\")\n",
    "\n",
    "        iterm_data.append(int(i))\n",
    "\n",
    "    final_data = []\n",
    "\n",
    "    count = 0\n",
    "    for u in range(max_steps):\n",
    "        each_data = []\n",
    "        for k in range(6):\n",
    "            if k == 0:\n",
    "                each_data.append(str(iterm_data[count]) + '.png')\n",
    "            else:\n",
    "                each_data.append(iterm_data[count])\n",
    "\n",
    "            count += 1\n",
    "\n",
    "        final_data.append(each_data)\n",
    "    \n",
    "    all_data.append(final_data)"
   ]
  },
  {
   "cell_type": "code",
   "execution_count": 64,
   "metadata": {},
   "outputs": [
    {
     "data": {
      "text/plain": [
       "[['1.png', 5, 13, 3, 22, 45],\n",
       " ['1.png', 0, 0, 0, 0, 0],\n",
       " ['1.png', 0, 0, 0, 0, 0],\n",
       " ['1.png', 0, 0, 0, 0, 0],\n",
       " ['1.png', 0, 0, 0, 0, 0]]"
      ]
     },
     "execution_count": 64,
     "metadata": {},
     "output_type": "execute_result"
    }
   ],
   "source": [
    "all_data[0]"
   ]
  },
  {
   "cell_type": "code",
   "execution_count": 65,
   "metadata": {},
   "outputs": [
    {
     "data": {
      "text/plain": [
       "'1.png'"
      ]
     },
     "execution_count": 65,
     "metadata": {},
     "output_type": "execute_result"
    }
   ],
   "source": [
    "all_data[0][0][0]"
   ]
  },
  {
   "cell_type": "markdown",
   "metadata": {},
   "source": [
    "### Visualize"
   ]
  },
  {
   "cell_type": "code",
   "execution_count": 66,
   "metadata": {},
   "outputs": [],
   "source": [
    "## -- debug\n",
    "# check how many samples:"
   ]
  },
  {
   "cell_type": "code",
   "execution_count": 67,
   "metadata": {},
   "outputs": [],
   "source": [
    "sample_index = 501"
   ]
  },
  {
   "cell_type": "code",
   "execution_count": 68,
   "metadata": {},
   "outputs": [
    {
     "name": "stdout",
     "output_type": "stream",
     "text": [
      "Path: ./dataset/test_cropped/502.png\n"
     ]
    }
   ],
   "source": [
    "sample_image_path = curated_dataset + '/' + all_data[sample_index][0][0]\n",
    "print('Path:', sample_image_path)"
   ]
  },
  {
   "cell_type": "code",
   "execution_count": 69,
   "metadata": {},
   "outputs": [],
   "source": [
    "sample_image = cv2.imread(sample_image_path)"
   ]
  },
  {
   "cell_type": "code",
   "execution_count": 70,
   "metadata": {},
   "outputs": [
    {
     "data": {
      "image/png": "[encoded data removed]",
      "text/plain": [
       "<matplotlib.figure.Figure at 0x7f8623cdcad0>"
      ]
     },
     "metadata": {},
     "output_type": "display_data"
    }
   ],
   "source": [
    "plt.figure(figsize=(1,1))\n",
    "plt.imshow(sample_image)\n",
    "plt.show()"
   ]
  },
  {
   "cell_type": "code",
   "execution_count": 71,
   "metadata": {},
   "outputs": [],
   "source": [
    "sample_heigt_org, sample_width_org, _ = sample_image.shape"
   ]
  },
  {
   "cell_type": "code",
   "execution_count": 72,
   "metadata": {},
   "outputs": [
    {
     "data": {
      "text/plain": [
       "['502.png', 1, 14, 9, 7, 26]"
      ]
     },
     "execution_count": 72,
     "metadata": {},
     "output_type": "execute_result"
    }
   ],
   "source": [
    "all_data[sample_index][0]"
   ]
  },
  {
   "cell_type": "code",
   "execution_count": 73,
   "metadata": {},
   "outputs": [
    {
     "data": {
      "image/png": "[encoded data removed]",
      "text/plain": [
       "<matplotlib.figure.Figure at 0x7f862776b8d0>"
      ]
     },
     "metadata": {},
     "output_type": "display_data"
    }
   ],
   "source": [
    "fig,ax = plt.subplots(1, max_steps+1)\n",
    "plt.text(0, 1, 'image', color='black', backgroundcolor='white', fontsize=8)\n",
    "ax[0].imshow(sample_image)\n",
    "ax[0].axis('off')\n",
    "        \n",
    "for k in range(max_steps):\n",
    "    sample_left  = abs(int(all_data[sample_index][k][2]))\n",
    "    sample_top   = abs(int(all_data[sample_index][k][3]))\n",
    "    sample_width = abs(int(all_data[sample_index][k][4]))\n",
    "    sample_heigt = abs(int(all_data[sample_index][k][5]))\n",
    "    sample_label = all_data[sample_index][k][1]\n",
    "    \n",
    "    rect = patches.Rectangle((sample_left, sample_top), sample_width, sample_heigt,\\\n",
    "                             linewidth=1, edgecolor='r', facecolor='none')  \n",
    "    ax[k+1].text(0, 1, sample_label, color='black', backgroundcolor='white', fontsize=8)\n",
    "    ax[k+1].imshow(sample_image)\n",
    "    ax[k+1].add_patch(rect)\n",
    "    ax[k+1].axis('off')"
   ]
  },
  {
   "cell_type": "markdown",
   "metadata": {},
   "source": [
    "### Generate attention mask"
   ]
  },
  {
   "cell_type": "code",
   "execution_count": 81,
   "metadata": {},
   "outputs": [],
   "source": [
    "def samples_total(samples):\n",
    "    total_samples= 0\n",
    "    for k in range(max_steps):\n",
    "        sample_label = samples[k][1]\n",
    "        \n",
    "        if int(sample_label) != 0:\n",
    "            total_samples += 1\n",
    "        \n",
    "    return total_samples"
   ]
  },
  {
   "cell_type": "code",
   "execution_count": 146,
   "metadata": {},
   "outputs": [
    {
     "data": {
      "image/png": "[encoded data removed]",
      "text/plain": [
       "<matplotlib.figure.Figure at 0x7f8623d2e250>"
      ]
     },
     "metadata": {},
     "output_type": "display_data"
    }
   ],
   "source": [
    "fig,ax = plt.subplots(1, max_steps+1)\n",
    "#plt.text(0, 1, 'image', color='black', backgroundcolor='white', fontsize=8)\n",
    "ax[0].imshow(sample_image)\n",
    "ax[0].axis('off')\n",
    "        \n",
    "for k in range(max_steps):\n",
    "    sample_left  = abs(int(all_data[sample_index][k][2]))\n",
    "    sample_top   = abs(int(all_data[sample_index][k][3]))\n",
    "    sample_width = abs(int(all_data[sample_index][k][4]))\n",
    "    sample_heigt = abs(int(all_data[sample_index][k][5]))\n",
    "    sample_label = all_data[sample_index][k][1]\n",
    "    total_samples = samples_total(samples=all_data[sample_index])\n",
    "    if int(sample_label) == 0:\n",
    "        stop_mask, attn = generate_stop_attention_mask(all_data[sample_index], sample_image, total_samples)\n",
    "        ax[k+1].text(0, 1, sample_label, color='black', backgroundcolor='white', fontsize=8)\n",
    "        ax[k+1].imshow(sample_image)        \n",
    "        ax[k+1].imshow(stop_mask, alpha=0.5)\n",
    "        ax[k+1].axis('off')\n",
    "    else:\n",
    "        acc, get_attention_mask = generate_ground_gaussian_attention_mask(sample_image,\\\n",
    "                                        sample_top, sample_heigt, sample_left, sample_width)\n",
    "        rect = patches.Rectangle((sample_left, sample_top), sample_width, sample_heigt,\\\n",
    "                                  linewidth=1, edgecolor='r', facecolor='none')  \n",
    "        ax[k+1].text(0, 1, sample_label, color='black', backgroundcolor='white', fontsize=8)\n",
    "        ax[k+1].imshow(sample_image)\n",
    "        ax[k+1].imshow(acc, alpha=0.5)\n",
    "        ax[k+1].add_patch(rect)\n",
    "        ax[k+1].axis('off')"
   ]
  },
  {
   "cell_type": "code",
   "execution_count": 83,
   "metadata": {},
   "outputs": [
    {
     "data": {
      "text/plain": [
       "'502'"
      ]
     },
     "execution_count": 83,
     "metadata": {},
     "output_type": "execute_result"
    }
   ],
   "source": [
    "all_data[sample_index][k][0][:-4]"
   ]
  },
  {
   "cell_type": "code",
   "execution_count": 87,
   "metadata": {},
   "outputs": [
    {
     "data": {
      "text/plain": [
       "0.010863182618907808"
      ]
     },
     "execution_count": 87,
     "metadata": {},
     "output_type": "execute_result"
    }
   ],
   "source": [
    "np.sum(attn.flatten())"
   ]
  },
  {
   "cell_type": "code",
   "execution_count": 159,
   "metadata": {},
   "outputs": [
    {
     "data": {
      "text/plain": [
       "1e-05"
      ]
     },
     "execution_count": 159,
     "metadata": {},
     "output_type": "execute_result"
    }
   ],
   "source": [
    "attn[18]"
   ]
  },
  {
   "cell_type": "code",
   "execution_count": 150,
   "metadata": {},
   "outputs": [
    {
     "data": {
      "text/plain": [
       "<matplotlib.image.AxesImage at 0x7f86237b0410>"
      ]
     },
     "execution_count": 150,
     "metadata": {},
     "output_type": "execute_result"
    },
    {
     "data": {
      "image/png": "[encoded data removed]",
      "text/plain": [
       "<matplotlib.figure.Figure at 0x7f86277d8250>"
      ]
     },
     "metadata": {},
     "output_type": "display_data"
    }
   ],
   "source": [
    "plt.imshow(np.reshape(attn, (7,7)))"
   ]
  },
  {
   "cell_type": "code",
   "execution_count": 117,
   "metadata": {},
   "outputs": [],
   "source": [
    "#a = softmax(get_attention_mask.flatten())"
   ]
  },
  {
   "cell_type": "code",
   "execution_count": 121,
   "metadata": {},
   "outputs": [],
   "source": [
    "get_attention_mask = np.float32(get_attention_mask.flatten())"
   ]
  },
  {
   "cell_type": "code",
   "execution_count": 122,
   "metadata": {},
   "outputs": [
    {
     "data": {
      "text/plain": [
       "dtype('float32')"
      ]
     },
     "execution_count": 122,
     "metadata": {},
     "output_type": "execute_result"
    }
   ],
   "source": [
    "get_attention_mask.dtype"
   ]
  },
  {
   "cell_type": "code",
   "execution_count": 123,
   "metadata": {},
   "outputs": [
    {
     "data": {
      "text/plain": [
       "array([0.        , 0.        , 0.        , 0.        , 0.        ,\n",
       "       0.        , 0.        , 0.        , 0.        , 0.        ,\n",
       "       0.        , 0.        , 0.        , 0.        , 0.        ,\n",
       "       0.        , 0.        , 0.        , 0.5422475 , 0.        ,\n",
       "       0.        , 0.        , 0.        , 0.        , 0.        ,\n",
       "       0.89929444, 0.        , 0.        , 0.        , 0.        ,\n",
       "       0.        , 0.        , 0.34916565, 0.        , 0.        ,\n",
       "       0.        , 0.        , 0.        , 0.        , 0.        ,\n",
       "       0.        , 0.        , 0.        , 0.        , 0.        ,\n",
       "       0.        , 0.        , 0.        , 0.        ], dtype=float32)"
      ]
     },
     "execution_count": 123,
     "metadata": {},
     "output_type": "execute_result"
    }
   ],
   "source": [
    "get_attention_mask"
   ]
  },
  {
   "cell_type": "code",
   "execution_count": 124,
   "metadata": {},
   "outputs": [
    {
     "data": {
      "text/plain": [
       "array([0.        , 0.        , 0.        , 0.        , 0.        ,\n",
       "       0.        , 0.        , 0.        , 0.        , 0.        ,\n",
       "       0.        , 0.        , 0.        , 0.        , 0.        ,\n",
       "       0.        , 0.        , 0.        , 0.30281186, 0.        ,\n",
       "       0.        , 0.        , 0.        , 0.        , 0.        ,\n",
       "       0.5022006 , 0.        , 0.        , 0.        , 0.        ,\n",
       "       0.        , 0.        , 0.19498754, 0.        , 0.        ,\n",
       "       0.        , 0.        , 0.        , 0.        , 0.        ,\n",
       "       0.        , 0.        , 0.        , 0.        , 0.        ,\n",
       "       0.        , 0.        , 0.        , 0.        ], dtype=float32)"
      ]
     },
     "execution_count": 124,
     "metadata": {},
     "output_type": "execute_result"
    }
   ],
   "source": [
    "get_attention_mask/np.sum(get_attention_mask)"
   ]
  },
  {
   "cell_type": "code",
   "execution_count": 134,
   "metadata": {},
   "outputs": [],
   "source": [
    "r = np.reshape((get_attention_mask/np.sum(get_attention_mask) + 1e-6), (1, 49))"
   ]
  },
  {
   "cell_type": "code",
   "execution_count": 135,
   "metadata": {},
   "outputs": [
    {
     "data": {
      "text/plain": [
       "(1, 49)"
      ]
     },
     "execution_count": 135,
     "metadata": {},
     "output_type": "execute_result"
    }
   ],
   "source": [
    "r.shape"
   ]
  },
  {
   "cell_type": "code",
   "execution_count": 136,
   "metadata": {},
   "outputs": [
    {
     "data": {
      "text/plain": [
       "1.000049"
      ]
     },
     "execution_count": 136,
     "metadata": {},
     "output_type": "execute_result"
    }
   ],
   "source": [
    "np.sum(r)"
   ]
  },
  {
   "cell_type": "code",
   "execution_count": 137,
   "metadata": {},
   "outputs": [],
   "source": [
    "import tensorflow as tf\n",
    "import numpy as np"
   ]
  },
  {
   "cell_type": "code",
   "execution_count": 138,
   "metadata": {},
   "outputs": [],
   "source": [
    "sess = tf.Session()"
   ]
  },
  {
   "cell_type": "code",
   "execution_count": 139,
   "metadata": {},
   "outputs": [],
   "source": [
    "a = tf.placeholder(tf.float32, shape=(None, 49))\n",
    "X = tf.distributions.Categorical(probs=a)"
   ]
  },
  {
   "cell_type": "code",
   "execution_count": 140,
   "metadata": {},
   "outputs": [],
   "source": [
    "a = sess.run(X.probs, feed_dict={a:r})"
   ]
  },
  {
   "cell_type": "code",
   "execution_count": 141,
   "metadata": {},
   "outputs": [
    {
     "data": {
      "text/plain": [
       "array([[1.0000000e-06, 1.0000000e-06, 1.0000000e-06, 1.0000000e-06,\n",
       "        1.0000000e-06, 1.0000000e-06, 1.0000000e-06, 1.0000000e-06,\n",
       "        1.0000000e-06, 1.0000000e-06, 1.0000000e-06, 1.0000000e-06,\n",
       "        1.0000000e-06, 1.0000000e-06, 1.0000000e-06, 1.0000000e-06,\n",
       "        1.0000000e-06, 1.0000000e-06, 3.0281287e-01, 1.0000000e-06,\n",
       "        1.0000000e-06, 1.0000000e-06, 1.0000000e-06, 1.0000000e-06,\n",
       "        1.0000000e-06, 5.0220162e-01, 1.0000000e-06, 1.0000000e-06,\n",
       "        1.0000000e-06, 1.0000000e-06, 1.0000000e-06, 1.0000000e-06,\n",
       "        1.9498853e-01, 1.0000000e-06, 1.0000000e-06, 1.0000000e-06,\n",
       "        1.0000000e-06, 1.0000000e-06, 1.0000000e-06, 1.0000000e-06,\n",
       "        1.0000000e-06, 1.0000000e-06, 1.0000000e-06, 1.0000000e-06,\n",
       "        1.0000000e-06, 1.0000000e-06, 1.0000000e-06, 1.0000000e-06,\n",
       "        1.0000000e-06]], dtype=float32)"
      ]
     },
     "execution_count": 141,
     "metadata": {},
     "output_type": "execute_result"
    }
   ],
   "source": [
    "a"
   ]
  },
  {
   "cell_type": "code",
   "execution_count": 142,
   "metadata": {},
   "outputs": [
    {
     "data": {
      "text/plain": [
       "1.000049"
      ]
     },
     "execution_count": 142,
     "metadata": {},
     "output_type": "execute_result"
    }
   ],
   "source": [
    "np.sum(a)"
   ]
  },
  {
   "cell_type": "code",
   "execution_count": 10,
   "metadata": {},
   "outputs": [],
   "source": [
    "def kl(x, y):\n",
    "    X = tf.distributions.Categorical(probs=x)\n",
    "    Y = tf.distributions.Categorical(probs=y)\n",
    "    \n",
    "    return tf.distributions.kl_divergence(X, Y)"
   ]
  },
  {
   "cell_type": "code",
   "execution_count": 11,
   "metadata": {},
   "outputs": [
    {
     "name": "stdout",
     "output_type": "stream",
     "text": [
      "[0.88995184 1.08808468]\n"
     ]
    }
   ],
   "source": [
    "a = np.array([[0.25, 0.1, 0.65], [0.8, 0.15, 0.05]])\n",
    "b = np.array([[0.7, 0.2, 0.1], [0.15, 0.8, 0.05]])\n",
    "sess = tf.Session()\n",
    "print(kl(a, b).eval(session=sess))  # [0.88995184 1.08808468]"
   ]
  },
  {
   "cell_type": "code",
   "execution_count": null,
   "metadata": {},
   "outputs": [],
   "source": []
  }
 ],
 "metadata": {
  "kernelspec": {
   "display_name": "Python 2",
   "language": "python",
   "name": "python2"
  },
  "language_info": {
   "codemirror_mode": {
    "name": "ipython",
    "version": 2
   },
   "file_extension": ".py",
   "mimetype": "text/x-python",
   "name": "python",
   "nbconvert_exporter": "python",
   "pygments_lexer": "ipython2",
   "version": "2.7.12"
  }
 },
 "nbformat": 4,
 "nbformat_minor": 2
}
